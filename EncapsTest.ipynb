{
  "nbformat": 4,
  "nbformat_minor": 0,
  "metadata": {
    "colab": {
      "provenance": [],
      "authorship_tag": "ABX9TyNRGcsCDGajQdEh1P3JFCEU",
      "include_colab_link": true
    },
    "kernelspec": {
      "name": "python3",
      "display_name": "Python 3"
    },
    "language_info": {
      "name": "python"
    }
  },
  "cells": [
    {
      "cell_type": "markdown",
      "metadata": {
        "id": "view-in-github",
        "colab_type": "text"
      },
      "source": [
        "<a href=\"https://colab.research.google.com/github/rahmanziaur/EDGEICT/blob/main/EncapsTest.ipynb\" target=\"_parent\"><img src=\"https://colab.research.google.com/assets/colab-badge.svg\" alt=\"Open In Colab\"/></a>"
      ]
    },
    {
      "cell_type": "code",
      "execution_count": null,
      "metadata": {
        "id": "q4EHrpXoCDLP"
      },
      "outputs": [],
      "source": []
    },
    {
      "cell_type": "markdown",
      "source": [
        "**Encapsulation in Python**\n",
        "Last Updated : 16 Dec, 2024\n",
        "In Python, encapsulation refers to the bundling of data (attributes) and methods (functions) that operate on the data into a single unit, typically a class. It also restricts direct access to some components, which helps protect the integrity of the data and ensures proper usage.\n",
        "\n",
        "**Table of Content**\n",
        "\n",
        "\n",
        "*   Encapsulation in Python\n",
        "*   Example of Encapsulation\n",
        "*   Public Members\n",
        "*   Protected members\n",
        "*   Private members\n",
        "\n",
        "*   Encapsulation is the process of hiding the internal state of an object and requiring all interactions to be performed through an object’s methods. This approach:\n",
        "*   Provides better control over data.\n",
        "*   Prevents accidental modification of data.\n",
        "*   Promotes modular programming.\n",
        "*   Python achieves encapsulation through public, protected and private attributes.\n",
        "\n",
        ">> https://www.geeksforgeeks.org/encapsulation-in-python/"
      ],
      "metadata": {
        "id": "G9Usk_wJCF-7"
      }
    },
    {
      "cell_type": "code",
      "source": [
        "!wget https://raw.githubusercontent.com/rahmanziaur/EDGEICT/refs/heads/main/Encaps/Circ.py"
      ],
      "metadata": {
        "colab": {
          "base_uri": "https://localhost:8080/"
        },
        "id": "bqNdKrZwCt1U",
        "outputId": "fb836ece-01e3-4d38-8573-25830c19f1f4"
      },
      "execution_count": 30,
      "outputs": [
        {
          "output_type": "stream",
          "name": "stdout",
          "text": [
            "--2025-01-09 13:40:11--  https://raw.githubusercontent.com/rahmanziaur/EDGEICT/refs/heads/main/Encaps/Circ.py\n",
            "Resolving raw.githubusercontent.com (raw.githubusercontent.com)... 185.199.108.133, 185.199.109.133, 185.199.110.133, ...\n",
            "Connecting to raw.githubusercontent.com (raw.githubusercontent.com)|185.199.108.133|:443... connected.\n",
            "HTTP request sent, awaiting response... 200 OK\n",
            "Length: 307 [text/plain]\n",
            "Saving to: ‘Circ.py.1’\n",
            "\n",
            "Circ.py.1           100%[===================>]     307  --.-KB/s    in 0s      \n",
            "\n",
            "2025-01-09 13:40:11 (12.3 MB/s) - ‘Circ.py.1’ saved [307/307]\n",
            "\n"
          ]
        }
      ]
    },
    {
      "cell_type": "code",
      "source": [
        "!wget https://raw.githubusercontent.com/rahmanziaur/EDGEICT/refs/heads/main/Encaps/Driver.py"
      ],
      "metadata": {
        "colab": {
          "base_uri": "https://localhost:8080/"
        },
        "id": "sCHCrcnoS4gr",
        "outputId": "734227f6-e50d-4aa7-dd4d-bcb2393f7c30"
      },
      "execution_count": 31,
      "outputs": [
        {
          "output_type": "stream",
          "name": "stdout",
          "text": [
            "--2025-01-09 13:40:54--  https://raw.githubusercontent.com/rahmanziaur/EDGEICT/refs/heads/main/Encaps/Driver.py\n",
            "Resolving raw.githubusercontent.com (raw.githubusercontent.com)... 185.199.108.133, 185.199.109.133, 185.199.110.133, ...\n",
            "Connecting to raw.githubusercontent.com (raw.githubusercontent.com)|185.199.108.133|:443... connected.\n",
            "HTTP request sent, awaiting response... 200 OK\n",
            "Length: 411 [text/plain]\n",
            "Saving to: ‘Driver.py.1’\n",
            "\n",
            "\rDriver.py.1           0%[                    ]       0  --.-KB/s               \rDriver.py.1         100%[===================>]     411  --.-KB/s    in 0s      \n",
            "\n",
            "2025-01-09 13:40:54 (4.95 MB/s) - ‘Driver.py.1’ saved [411/411]\n",
            "\n"
          ]
        }
      ]
    },
    {
      "cell_type": "code",
      "source": [
        "!wget https://raw.githubusercontent.com/rahmanziaur/EDGEICT/refs/heads/main/Encaps/Main.py"
      ],
      "metadata": {
        "id": "mXjCeB5hTF5y",
        "outputId": "b8bb32d3-6850-4088-e1bd-0e09cd0d88c6",
        "colab": {
          "base_uri": "https://localhost:8080/"
        }
      },
      "execution_count": 32,
      "outputs": [
        {
          "output_type": "stream",
          "name": "stdout",
          "text": [
            "--2025-01-09 13:41:19--  https://raw.githubusercontent.com/rahmanziaur/EDGEICT/refs/heads/main/Encaps/Main.py\n",
            "Resolving raw.githubusercontent.com (raw.githubusercontent.com)... 185.199.108.133, 185.199.109.133, 185.199.110.133, ...\n",
            "Connecting to raw.githubusercontent.com (raw.githubusercontent.com)|185.199.108.133|:443... connected.\n",
            "HTTP request sent, awaiting response... 200 OK\n",
            "Length: 73 [text/plain]\n",
            "Saving to: ‘Main.py.1’\n",
            "\n",
            "\rMain.py.1             0%[                    ]       0  --.-KB/s               \rMain.py.1           100%[===================>]      73  --.-KB/s    in 0s      \n",
            "\n",
            "2025-01-09 13:41:20 (1.34 MB/s) - ‘Main.py.1’ saved [73/73]\n",
            "\n"
          ]
        }
      ]
    },
    {
      "cell_type": "code",
      "source": [
        "!python Circ.py"
      ],
      "metadata": {
        "id": "zJ7TQROLFCGc"
      },
      "execution_count": 15,
      "outputs": []
    },
    {
      "cell_type": "code",
      "source": [
        "!python Driver.py"
      ],
      "metadata": {
        "id": "hoAZFPBMP_Nj"
      },
      "execution_count": 28,
      "outputs": []
    },
    {
      "cell_type": "code",
      "source": [
        "!python Main.py"
      ],
      "metadata": {
        "colab": {
          "base_uri": "https://localhost:8080/"
        },
        "id": "tPEZrJY0QWEC",
        "outputId": "c332548e-8e20-42fb-a35f-dec3209f3ec9"
      },
      "execution_count": 29,
      "outputs": [
        {
          "output_type": "stream",
          "name": "stdout",
          "text": [
            "Area:314.1592653589793\n",
            "Area:1963.4954084936207\n",
            "25\n",
            "25\n"
          ]
        }
      ]
    }
  ]
}