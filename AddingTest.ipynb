{
 "cells": [
  {
   "cell_type": "code",
   "execution_count": 1,
   "id": "fc7d0a36-7f81-4234-97f2-6ff08c984a18",
   "metadata": {},
   "outputs": [
    {
     "name": "stdin",
     "output_type": "stream",
     "text": [
      "Enter a: 345\n",
      "Enter b: 456\n"
     ]
    },
    {
     "name": "stdout",
     "output_type": "stream",
     "text": [
      "345  +  456  =  801\n"
     ]
    }
   ],
   "source": [
    "a = int(input(\"Enter a:\"))\n",
    "b = int(input(\"Enter b:\"))\n",
    "c = a + b\n",
    "print(a,\" + \", b,\" = \", c)"
   ]
  },
  {
   "cell_type": "code",
   "execution_count": 3,
   "id": "b3625ea3-5693-4423-bb0a-e30752395e8a",
   "metadata": {},
   "outputs": [],
   "source": [
    "def addTwo(a=0, b = 0):\n",
    "    c = a + b\n",
    "    return c"
   ]
  },
  {
   "cell_type": "code",
   "execution_count": 4,
   "id": "dc36d09e-ee25-4dc8-8cef-10ea5f575660",
   "metadata": {},
   "outputs": [
    {
     "name": "stdin",
     "output_type": "stream",
     "text": [
      "Enter a: 345\n",
      "Enter b: 2333\n"
     ]
    },
    {
     "name": "stdout",
     "output_type": "stream",
     "text": [
      "345  +  2333  =  2678\n"
     ]
    }
   ],
   "source": [
    "a = int(input(\"Enter a:\"))\n",
    "b = int(input(\"Enter b:\"))\n",
    "print(a,\" + \", b,\" = \", addTwo(a,b))"
   ]
  },
  {
   "cell_type": "code",
   "execution_count": null,
   "id": "4fa9095d-0d23-4669-a7a2-8634bcda17a8",
   "metadata": {},
   "outputs": [],
   "source": []
  }
 ],
 "metadata": {
  "kernelspec": {
   "display_name": "Python 3 (ipykernel)",
   "language": "python",
   "name": "python3"
  },
  "language_info": {
   "codemirror_mode": {
    "name": "ipython",
    "version": 3
   },
   "file_extension": ".py",
   "mimetype": "text/x-python",
   "name": "python",
   "nbconvert_exporter": "python",
   "pygments_lexer": "ipython3",
   "version": "3.13.1"
  }
 },
 "nbformat": 4,
 "nbformat_minor": 5
}
