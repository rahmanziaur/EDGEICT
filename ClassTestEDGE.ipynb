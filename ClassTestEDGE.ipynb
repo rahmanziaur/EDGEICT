{
  "nbformat": 4,
  "nbformat_minor": 0,
  "metadata": {
    "colab": {
      "provenance": [],
      "authorship_tag": "ABX9TyMlPay2k472BhnOVI6oQmw+",
      "include_colab_link": true
    },
    "kernelspec": {
      "name": "python3",
      "display_name": "Python 3"
    },
    "language_info": {
      "name": "python"
    }
  },
  "cells": [
    {
      "cell_type": "markdown",
      "metadata": {
        "id": "view-in-github",
        "colab_type": "text"
      },
      "source": [
        "<a href=\"https://colab.research.google.com/github/rahmanziaur/EDGEICT/blob/main/ClassTestEDGE.ipynb\" target=\"_parent\"><img src=\"https://colab.research.google.com/assets/colab-badge.svg\" alt=\"Open In Colab\"/></a>"
      ]
    },
    {
      "cell_type": "code",
      "execution_count": 12,
      "metadata": {
        "id": "VrOif8fjAeG5"
      },
      "outputs": [],
      "source": [
        "!python Dog.py"
      ]
    },
    {
      "cell_type": "code",
      "source": [
        "!wget https://raw.githubusercontent.com/rahmanziaur/EDGEICT/refs/heads/main/Dog.py"
      ],
      "metadata": {
        "colab": {
          "base_uri": "https://localhost:8080/"
        },
        "id": "OOVuCSQgHowE",
        "outputId": "7140ffbd-3d74-4f75-c32f-1f63e87a0d15"
      },
      "execution_count": 16,
      "outputs": [
        {
          "output_type": "stream",
          "name": "stdout",
          "text": [
            "--2025-01-08 13:33:21--  https://raw.githubusercontent.com/rahmanziaur/EDGEICT/refs/heads/main/Dog.py\n",
            "Resolving raw.githubusercontent.com (raw.githubusercontent.com)... 185.199.108.133, 185.199.109.133, 185.199.110.133, ...\n",
            "Connecting to raw.githubusercontent.com (raw.githubusercontent.com)|185.199.108.133|:443... connected.\n",
            "HTTP request sent, awaiting response... 200 OK\n",
            "Length: 179 [text/plain]\n",
            "Saving to: ‘Dog.py’\n",
            "\n",
            "\rDog.py                0%[                    ]       0  --.-KB/s               \rDog.py              100%[===================>]     179  --.-KB/s    in 0s      \n",
            "\n",
            "2025-01-08 13:33:21 (3.46 MB/s) - ‘Dog.py’ saved [179/179]\n",
            "\n"
          ]
        }
      ]
    },
    {
      "cell_type": "code",
      "source": [
        "!wget https://raw.githubusercontent.com/rahmanziaur/EDGEICT/refs/heads/main/DriverClass1.py"
      ],
      "metadata": {
        "colab": {
          "base_uri": "https://localhost:8080/"
        },
        "id": "DA-yQl7ZHueT",
        "outputId": "f1723240-1991-405c-85a0-6998cb76d8dc"
      },
      "execution_count": 17,
      "outputs": [
        {
          "output_type": "stream",
          "name": "stdout",
          "text": [
            "--2025-01-08 13:34:16--  https://raw.githubusercontent.com/rahmanziaur/EDGEICT/refs/heads/main/DriverClass1.py\n",
            "Resolving raw.githubusercontent.com (raw.githubusercontent.com)... 185.199.110.133, 185.199.111.133, 185.199.109.133, ...\n",
            "Connecting to raw.githubusercontent.com (raw.githubusercontent.com)|185.199.110.133|:443... connected.\n",
            "HTTP request sent, awaiting response... 200 OK\n",
            "Length: 165 [text/plain]\n",
            "Saving to: ‘DriverClass1.py’\n",
            "\n",
            "\rDriverClass1.py       0%[                    ]       0  --.-KB/s               \rDriverClass1.py     100%[===================>]     165  --.-KB/s    in 0s      \n",
            "\n",
            "2025-01-08 13:34:16 (7.08 MB/s) - ‘DriverClass1.py’ saved [165/165]\n",
            "\n"
          ]
        }
      ]
    },
    {
      "cell_type": "code",
      "source": [
        "!python testPack/Dog.py"
      ],
      "metadata": {
        "id": "J6sBf2GzIFbL"
      },
      "execution_count": 28,
      "outputs": []
    },
    {
      "cell_type": "code",
      "source": [
        "!python DriverClass1.py"
      ],
      "metadata": {
        "colab": {
          "base_uri": "https://localhost:8080/"
        },
        "id": "-XFehT9MCL8u",
        "outputId": "8064429b-af26-45f6-c347-11bccb5e5a21"
      },
      "execution_count": 29,
      "outputs": [
        {
          "output_type": "stream",
          "name": "stdout",
          "text": [
            "Name:BD Dog\n",
            " Age:5.5\n"
          ]
        }
      ]
    },
    {
      "cell_type": "code",
      "source": [
        "from DriverClass1 import DriverClass\n",
        "\n",
        "if __name__==\"__main__\":\n",
        "  dc = DriverClass()\n",
        "  dc.main()"
      ],
      "metadata": {
        "colab": {
          "base_uri": "https://localhost:8080/"
        },
        "id": "AsJMx9wuCN5S",
        "outputId": "f7521c2c-18af-4cff-a601-e2df98ad0432"
      },
      "execution_count": 24,
      "outputs": [
        {
          "output_type": "stream",
          "name": "stdout",
          "text": [
            "Name:BD Dog\n",
            " Age:5.5\n"
          ]
        }
      ]
    },
    {
      "cell_type": "markdown",
      "source": [
        "**Python Statc Field Behaves Non-static, explain and exemplify**"
      ],
      "metadata": {
        "id": "oH6-wkAkIi8V"
      }
    },
    {
      "cell_type": "code",
      "source": [
        "class Dog:\n",
        "    species = \"canine\"\n",
        "\n",
        "    def __init__(self, name, age):\n",
        "        self.name = name\n",
        "        self.age = age\n",
        "\n",
        "# Create two instances\n",
        "dog1 = Dog(\"Buddy\", 3)\n",
        "dog2 = Dog(\"Max\", 5)\n",
        "\n",
        "print(\"Access species via class and instances\")\n",
        "print(Dog.species)  # Output: canine\n",
        "print(dog1.species)  # Output: canine\n",
        "print(dog2.species)  # Output: canine\n",
        "\n",
        "print(\"Modify species via class\")\n",
        "Dog.species = \"feline\" # behave like a sttaic member\n",
        "print(Dog.species)  # Output: feline\n",
        "print(dog1.species)  # Output: feline\n",
        "print(dog2.species)  # Output: feline\n",
        "\n",
        "print(\"Modify species via an instance\")\n",
        "dog1.species = \"wolf\" #behaving like nonstatic\n",
        "print(dog1.species)  # Output: wolf (instance-specific attribute)\n",
        "print(dog2.species)  # Output: feline (still the class-level attribute)\n",
        "print(Dog.species)   # Output: feline\n"
      ],
      "metadata": {
        "colab": {
          "base_uri": "https://localhost:8080/"
        },
        "id": "sp12imX0FM1M",
        "outputId": "4111ee83-8869-4529-d853-9c1a7fd7df68"
      },
      "execution_count": 25,
      "outputs": [
        {
          "output_type": "stream",
          "name": "stdout",
          "text": [
            "Access species via class and instances\n",
            "canine\n",
            "canine\n",
            "canine\n",
            "Modify species via class\n",
            "feline\n",
            "feline\n",
            "feline\n",
            "Modify species via an instance\n",
            "wolf\n",
            "feline\n",
            "feline\n"
          ]
        }
      ]
    }
  ]
}