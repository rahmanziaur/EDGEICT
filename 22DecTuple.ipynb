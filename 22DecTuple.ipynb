{
  "nbformat": 4,
  "nbformat_minor": 0,
  "metadata": {
    "colab": {
      "provenance": [],
      "authorship_tag": "ABX9TyO82+BL26JgzE7i4fXYId62",
      "include_colab_link": true
    },
    "kernelspec": {
      "name": "python3",
      "display_name": "Python 3"
    },
    "language_info": {
      "name": "python"
    }
  },
  "cells": [
    {
      "cell_type": "markdown",
      "metadata": {
        "id": "view-in-github",
        "colab_type": "text"
      },
      "source": [
        "<a href=\"https://colab.research.google.com/github/rahmanziaur/EDGEICT/blob/main/22DecTuple.ipynb\" target=\"_parent\"><img src=\"https://colab.research.google.com/assets/colab-badge.svg\" alt=\"Open In Colab\"/></a>"
      ]
    },
    {
      "cell_type": "code",
      "execution_count": 6,
      "metadata": {
        "colab": {
          "base_uri": "https://localhost:8080/"
        },
        "id": "z9CjxzHMrUUl",
        "outputId": "0bea1d9c-f612-427f-b638-7665ba702664"
      },
      "outputs": [
        {
          "output_type": "stream",
          "name": "stdout",
          "text": [
            "('apple', 'banana', 'cherry')\n",
            "(1, 5, 7, 9, 3)\n",
            "(True, False, False)\n",
            "True\n",
            "0\n",
            "False\n",
            "1\n",
            "False\n",
            "1\n"
          ]
        }
      ],
      "source": [
        "tuple1 = (\"apple\", \"banana\", \"cherry\")\n",
        "tuple2 = (1, 5, 7, 9, 3)\n",
        "tuple3 = (True, False, False)\n",
        "\n",
        "print(tuple1)\n",
        "print(tuple2)\n",
        "print(tuple3)\n",
        "\n",
        "mytuple = (\"apple\", \"banana\", \"cherry\", \"Cherry\")\n",
        "\n",
        "for x in tuple3:\n",
        "  print(x)\n",
        "  print(tuple3.index(x))\n",
        "\n",
        ""
      ]
    },
    {
      "cell_type": "code",
      "source": [
        "print([list(i for i in range(6))])"
      ],
      "metadata": {
        "colab": {
          "base_uri": "https://localhost:8080/"
        },
        "id": "xb84fcErtzmR",
        "outputId": "539c50fd-d433-4f25-cb36-e1add3d73e23"
      },
      "execution_count": 9,
      "outputs": [
        {
          "output_type": "stream",
          "name": "stdout",
          "text": [
            "<generator object <genexpr> at 0x7c6d865e2a40>\n"
          ]
        }
      ]
    },
    {
      "cell_type": "code",
      "source": [
        "# Define a tuple\n",
        "example_tuple = (1, 2, 3, 3, 4, 5)\n",
        "\n",
        "# Ordered: Access elements by index\n",
        "print(\"First element:\", example_tuple[0])  # Output: 1\n",
        "print(\"Last element:\", example_tuple[-1])  # Output: 5\n",
        "\n",
        "# Unchangeable: Attempting to change an element raises an error\n",
        "try:\n",
        "    example_tuple[1] = 10  # This will raise an error\n",
        "except TypeError as e:\n",
        "    print(\"Error:\", e)\n",
        "\n",
        "# Allows duplicates: Tuple can have repeated elements\n",
        "print(\"Original tuple:\", example_tuple)  # Output: (1, 2, 3, 3, 4, 5)\n",
        "print(\"Count of 3:\", example_tuple.count(3))  # Output: 2\n",
        "\n",
        "# Iterating over the tuple (demonstrating order)\n",
        "for item in example_tuple:\n",
        "    print(item, end=\" \")  # Output: 1 2 3 3 4 5\n"
      ],
      "metadata": {
        "id": "T6M_Qb_H0d9x"
      },
      "execution_count": null,
      "outputs": []
    }
  ]
}