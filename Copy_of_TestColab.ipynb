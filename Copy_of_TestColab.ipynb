{
  "cells": [
    {
      "cell_type": "markdown",
      "metadata": {
        "id": "view-in-github",
        "colab_type": "text"
      },
      "source": [
        "<a href=\"https://colab.research.google.com/github/rahmanziaur/EDGEICT/blob/main/Copy_of_TestColab.ipynb\" target=\"_parent\"><img src=\"https://colab.research.google.com/assets/colab-badge.svg\" alt=\"Open In Colab\"/></a>"
      ]
    },
    {
      "cell_type": "code",
      "source": [],
      "metadata": {
        "id": "MfRAorK9MnOL"
      },
      "execution_count": null,
      "outputs": []
    },
    {
      "cell_type": "code",
      "source": [
        "from google.colab import drive\n",
        "drive.mount('/content/drive')"
      ],
      "metadata": {
        "id": "9DxvRWogNB-E",
        "outputId": "baaf7b7a-7ba2-48cf-dc76-6f9c72448e59",
        "colab": {
          "base_uri": "https://localhost:8080/"
        }
      },
      "execution_count": null,
      "outputs": [
        {
          "output_type": "stream",
          "name": "stdout",
          "text": [
            "Mounted at /content/drive\n"
          ]
        }
      ]
    },
    {
      "cell_type": "code",
      "source": [
        "li = [1,\"MBSTU\",3,4,5,6,True,8,9,10]\n",
        "li"
      ],
      "metadata": {
        "id": "sIa0kks3NQKj",
        "outputId": "909f389a-bf51-42cb-ee92-0376c66c1dbb",
        "colab": {
          "base_uri": "https://localhost:8080/"
        }
      },
      "execution_count": null,
      "outputs": [
        {
          "output_type": "execute_result",
          "data": {
            "text/plain": [
              "[1, 'MBSTU', 3, 4, 5, 6, True, 8, 9, 10]"
            ]
          },
          "metadata": {},
          "execution_count": 3
        }
      ]
    },
    {
      "cell_type": "code",
      "source": [
        "text1 = \"This is Batch 50\"\n",
        "text2 = text1+\" of EDGE Project\"\n",
        "\n",
        "print(text2)\n",
        "print(text2[:2])\n",
        "print(text2[:4]+text2[4:16])"
      ],
      "metadata": {
        "colab": {
          "base_uri": "https://localhost:8080/"
        },
        "id": "-WgWcwAaa1tg",
        "outputId": "622e86e0-63e3-4402-e8d4-d646bf4461a0"
      },
      "execution_count": 1,
      "outputs": [
        {
          "output_type": "stream",
          "name": "stdout",
          "text": [
            "This is Batch 50 of EDGE Project\n",
            "Th\n",
            "This is Batch 50\n"
          ]
        }
      ]
    }
  ],
  "metadata": {
    "colab": {
      "provenance": [],
      "include_colab_link": true
    },
    "kernelspec": {
      "display_name": "Python 3",
      "name": "python3"
    }
  },
  "nbformat": 4,
  "nbformat_minor": 0
}