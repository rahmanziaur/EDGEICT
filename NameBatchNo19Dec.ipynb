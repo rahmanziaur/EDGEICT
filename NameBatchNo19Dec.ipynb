{
  "nbformat": 4,
  "nbformat_minor": 0,
  "metadata": {
    "colab": {
      "provenance": [],
      "authorship_tag": "ABX9TyP8mjSYmkeHmRT2lV/idOV4",
      "include_colab_link": true
    },
    "kernelspec": {
      "name": "python3",
      "display_name": "Python 3"
    },
    "language_info": {
      "name": "python"
    }
  },
  "cells": [
    {
      "cell_type": "markdown",
      "metadata": {
        "id": "view-in-github",
        "colab_type": "text"
      },
      "source": [
        "<a href=\"https://colab.research.google.com/github/rahmanziaur/EDGEICT/blob/main/NameBatchNo19Dec.ipynb\" target=\"_parent\"><img src=\"https://colab.research.google.com/assets/colab-badge.svg\" alt=\"Open In Colab\"/></a>"
      ]
    },
    {
      "cell_type": "markdown",
      "source": [
        "**Operator Overloading** means giving extended meaning beyond their predefined operational meaning. For example operator + is used to add two integers as well as join two strings and merge two lists."
      ],
      "metadata": {
        "id": "aZ2tBmvt4QeC"
      }
    },
    {
      "cell_type": "code",
      "execution_count": 7,
      "metadata": {
        "colab": {
          "base_uri": "https://localhost:8080/"
        },
        "id": "VHB05T-s0k7Q",
        "outputId": "0d64a3b3-beb1-4372-a487-7388b759257e"
      },
      "outputs": [
        {
          "output_type": "stream",
          "name": "stdout",
          "text": [
            "original list [0, 1, 2, 3, 4, 5, 6, 7, 8, 9]\n",
            "li1= li[:2]+li[3:]:  [0, 1, 3, 4, 5, 6, 7, 8, 9]\n",
            "10 PQ\n",
            "GeeksGeeksGeeksGeeksGeeks\n"
          ]
        }
      ],
      "source": [
        "li = [i for i in range(10)]\n",
        "print(\"original list\",li)\n",
        "li1= li[:2]+li[3:]\n",
        "print(\"li1= li[:2]+li[3:]: \",li1)\n",
        "x = \"P\"\n",
        "y = \"Q\"\n",
        "z = x+y\n",
        "print(10,z)\n",
        "print(\"Geeks\"*5)\n"
      ]
    },
    {
      "cell_type": "code",
      "source": [
        "boolList = [True, True, False, False, True]\n",
        "for i in boolList:\n",
        "  print(boolList.index(i), \" = \", i)\n",
        ""
      ],
      "metadata": {
        "colab": {
          "base_uri": "https://localhost:8080/"
        },
        "id": "v3ZWBlo_7J0b",
        "outputId": "1f4a6df7-b2fb-48c0-d4ac-79c91432837a"
      },
      "execution_count": 8,
      "outputs": [
        {
          "output_type": "stream",
          "name": "stdout",
          "text": [
            "0  =  True\n",
            "0  =  True\n",
            "2  =  False\n",
            "2  =  False\n",
            "0  =  True\n"
          ]
        }
      ]
    },
    {
      "cell_type": "code",
      "source": [
        "boolList = [True, True, False, False, True]\n",
        "for index, value in enumerate(boolList):\n",
        "    print(index, \" = \", value)\n"
      ],
      "metadata": {
        "colab": {
          "base_uri": "https://localhost:8080/"
        },
        "id": "-ldFl1eS71VS",
        "outputId": "1f2d7064-0b71-4e8f-8d37-6d6f22b7c1c1"
      },
      "execution_count": 9,
      "outputs": [
        {
          "output_type": "stream",
          "name": "stdout",
          "text": [
            "0  =  True\n",
            "1  =  True\n",
            "2  =  False\n",
            "3  =  False\n",
            "4  =  True\n"
          ]
        }
      ]
    },
    {
      "cell_type": "code",
      "source": [
        "x = 5\n",
        "y = \"John\"\n",
        "print(x)\n",
        "print(y)"
      ],
      "metadata": {
        "colab": {
          "base_uri": "https://localhost:8080/"
        },
        "id": "0yTJg5c89EFV",
        "outputId": "6c608eb2-d8bb-4b10-b9ec-b61482d7e81f"
      },
      "execution_count": 10,
      "outputs": [
        {
          "output_type": "stream",
          "name": "stdout",
          "text": [
            "5\n",
            "John\n"
          ]
        }
      ]
    }
  ]
}