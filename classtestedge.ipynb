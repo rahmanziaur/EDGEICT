{
  "nbformat": 4,
  "nbformat_minor": 0,
  "metadata": {
    "colab": {
      "provenance": [],
      "authorship_tag": "ABX9TyNCGvMbjOEoZTsxjIrIVt9j",
      "include_colab_link": true
    },
    "kernelspec": {
      "name": "python3",
      "display_name": "Python 3"
    },
    "language_info": {
      "name": "python"
    }
  },
  "cells": [
    {
      "cell_type": "markdown",
      "metadata": {
        "id": "view-in-github",
        "colab_type": "text"
      },
      "source": [
        "<a href=\"https://colab.research.google.com/github/rahmanziaur/EDGEICT/blob/main/classtestedge.ipynb\" target=\"_parent\"><img src=\"https://colab.research.google.com/assets/colab-badge.svg\" alt=\"Open In Colab\"/></a>"
      ]
    },
    {
      "cell_type": "code",
      "source": [
        "!wget https://raw.githubusercontent.com/rahmanziaur/EDGEICT/refs/heads/main/Dog.py"
      ],
      "metadata": {
        "colab": {
          "base_uri": "https://localhost:8080/"
        },
        "id": "OOVuCSQgHowE",
        "outputId": "79b851d6-12d4-40e7-9246-b94cefb1d0e7"
      },
      "execution_count": null,
      "outputs": [
        {
          "output_type": "stream",
          "name": "stdout",
          "text": [
            "--2025-01-09 10:48:08--  https://raw.githubusercontent.com/rahmanziaur/EDGEICT/refs/heads/main/Dog.py\n",
            "Resolving raw.githubusercontent.com (raw.githubusercontent.com)... 185.199.108.133, 185.199.109.133, 185.199.110.133, ...\n",
            "Connecting to raw.githubusercontent.com (raw.githubusercontent.com)|185.199.108.133|:443... connected.\n",
            "HTTP request sent, awaiting response... 200 OK\n",
            "Length: 179 [text/plain]\n",
            "Saving to: ‘Dog.py’\n",
            "\n",
            "Dog.py              100%[===================>]     179  --.-KB/s    in 0s      \n",
            "\n",
            "2025-01-09 10:48:08 (9.11 MB/s) - ‘Dog.py’ saved [179/179]\n",
            "\n"
          ]
        }
      ]
    },
    {
      "cell_type": "code",
      "source": [
        "!wget https://raw.githubusercontent.com/rahmanziaur/EDGEICT/refs/heads/main/DriverClass1.py"
      ],
      "metadata": {
        "colab": {
          "base_uri": "https://localhost:8080/"
        },
        "id": "DA-yQl7ZHueT",
        "outputId": "c149739b-784d-44f0-9ea2-5aae4fe5c8b5"
      },
      "execution_count": null,
      "outputs": [
        {
          "output_type": "stream",
          "name": "stdout",
          "text": [
            "--2025-01-09 10:49:16--  https://raw.githubusercontent.com/rahmanziaur/EDGEICT/refs/heads/main/DriverClass1.py\n",
            "Resolving raw.githubusercontent.com (raw.githubusercontent.com)... 185.199.108.133, 185.199.109.133, 185.199.110.133, ...\n",
            "Connecting to raw.githubusercontent.com (raw.githubusercontent.com)|185.199.108.133|:443... connected.\n",
            "HTTP request sent, awaiting response... 200 OK\n",
            "Length: 165 [text/plain]\n",
            "Saving to: ‘DriverClass1.py’\n",
            "\n",
            "DriverClass1.py     100%[===================>]     165  --.-KB/s    in 0s      \n",
            "\n",
            "2025-01-09 10:49:16 (2.34 MB/s) - ‘DriverClass1.py’ saved [165/165]\n",
            "\n"
          ]
        }
      ]
    },
    {
      "cell_type": "code",
      "execution_count": null,
      "metadata": {
        "id": "VrOif8fjAeG5"
      },
      "outputs": [],
      "source": [
        "!python TestPack/Dog.py"
      ]
    },
    {
      "cell_type": "code",
      "source": [
        "!python testPack/Dog.py"
      ],
      "metadata": {
        "id": "J6sBf2GzIFbL"
      },
      "execution_count": null,
      "outputs": []
    },
    {
      "cell_type": "code",
      "source": [
        "!python DriverClass1.py"
      ],
      "metadata": {
        "id": "-XFehT9MCL8u"
      },
      "execution_count": null,
      "outputs": []
    },
    {
      "cell_type": "code",
      "source": [
        "!wget https://raw.githubusercontent.com/rahmanziaur/EDGEICT/refs/heads/main/DrivingDog.py"
      ],
      "metadata": {
        "colab": {
          "base_uri": "https://localhost:8080/"
        },
        "id": "AsJMx9wuCN5S",
        "outputId": "2be7e582-3d51-40dd-a6b5-352372e0b12e"
      },
      "execution_count": null,
      "outputs": [
        {
          "output_type": "stream",
          "name": "stdout",
          "text": [
            "--2025-01-09 11:04:45--  https://raw.githubusercontent.com/rahmanziaur/EDGEICT/refs/heads/main/DrivingDog.py\n",
            "Resolving raw.githubusercontent.com (raw.githubusercontent.com)... 185.199.108.133, 185.199.111.133, 185.199.109.133, ...\n",
            "Connecting to raw.githubusercontent.com (raw.githubusercontent.com)|185.199.108.133|:443... connected.\n",
            "HTTP request sent, awaiting response... 200 OK\n",
            "Length: 96 [text/plain]\n",
            "Saving to: ‘DrivingDog.py’\n",
            "\n",
            "\rDrivingDog.py         0%[                    ]       0  --.-KB/s               \rDrivingDog.py       100%[===================>]      96  --.-KB/s    in 0s      \n",
            "\n",
            "2025-01-09 11:04:45 (1.59 MB/s) - ‘DrivingDog.py’ saved [96/96]\n",
            "\n"
          ]
        }
      ]
    },
    {
      "cell_type": "code",
      "source": [
        "!python DrivingDog.py"
      ],
      "metadata": {
        "colab": {
          "base_uri": "https://localhost:8080/"
        },
        "id": "Cw7LBEy4vRmp",
        "outputId": "ddb710e4-80f1-4d91-f55c-b6c537dbe5c6"
      },
      "execution_count": null,
      "outputs": [
        {
          "output_type": "stream",
          "name": "stdout",
          "text": [
            "Name:My Dog\n",
            " Age:5\n"
          ]
        }
      ]
    },
    {
      "cell_type": "markdown",
      "source": [
        "**Python Statc Field Behaves Non-static, explain and exemplify**"
      ],
      "metadata": {
        "id": "oH6-wkAkIi8V"
      }
    },
    {
      "cell_type": "code",
      "source": [
        "class Dog:\n",
        "    species = \"canine\"\n",
        "\n",
        "    def __init__(self, name, age):\n",
        "        self.name = name\n",
        "        self.age = age\n",
        "\n",
        "# Create two instances\n",
        "dog1 = Dog(\"Buddy\", 3)\n",
        "dog2 = Dog(\"Max\", 5)\n",
        "\n",
        "print(\"Access species via class and instances\")\n",
        "print(Dog.species)  # Output: canine\n",
        "print(dog1.species)  # Output: canine\n",
        "print(dog2.species)  # Output: canine\n",
        "\n",
        "print(\"Modify species via class\")\n",
        "Dog.species = \"feline\" # behave like a sttaic member\n",
        "print(Dog.species)  # Output: feline\n",
        "print(dog1.species)  # Output: feline\n",
        "print(dog2.species)  # Output: feline\n",
        "\n",
        "print(\"Modify species via an instance\")\n",
        "dog1.species = \"wolf\" #behaving like nonstatic\n",
        "print(dog1.species)  # Output: wolf (instance-specific attribute)\n",
        "print(dog2.species)  # Output: feline (still the class-level attribute)\n",
        "print(Dog.species)   # Output: feline\n"
      ],
      "metadata": {
        "colab": {
          "base_uri": "https://localhost:8080/"
        },
        "id": "sp12imX0FM1M",
        "outputId": "4111ee83-8869-4529-d853-9c1a7fd7df68"
      },
      "execution_count": null,
      "outputs": [
        {
          "output_type": "stream",
          "name": "stdout",
          "text": [
            "Access species via class and instances\n",
            "canine\n",
            "canine\n",
            "canine\n",
            "Modify species via class\n",
            "feline\n",
            "feline\n",
            "feline\n",
            "Modify species via an instance\n",
            "wolf\n",
            "feline\n",
            "feline\n"
          ]
        }
      ]
    }
  ]
}