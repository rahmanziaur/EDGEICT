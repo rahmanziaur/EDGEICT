{
  "nbformat": 4,
  "nbformat_minor": 0,
  "metadata": {
    "colab": {
      "provenance": [],
      "authorship_tag": "ABX9TyNMbFZ3d1XtswEMftiSQUv4",
      "include_colab_link": true
    },
    "kernelspec": {
      "name": "python3",
      "display_name": "Python 3"
    },
    "language_info": {
      "name": "python"
    }
  },
  "cells": [
    {
      "cell_type": "markdown",
      "metadata": {
        "id": "view-in-github",
        "colab_type": "text"
      },
      "source": [
        "<a href=\"https://colab.research.google.com/github/rahmanziaur/EDGEICT/blob/main/classtestedge.ipynb\" target=\"_parent\"><img src=\"https://colab.research.google.com/assets/colab-badge.svg\" alt=\"Open In Colab\"/></a>"
      ]
    },
    {
      "cell_type": "code",
      "source": [
        "!wget https://raw.githubusercontent.com/rahmanziaur/EDGEICT/refs/heads/main/Dog.py"
      ],
      "metadata": {
        "colab": {
          "base_uri": "https://localhost:8080/"
        },
        "id": "OOVuCSQgHowE",
        "outputId": "79b851d6-12d4-40e7-9246-b94cefb1d0e7"
      },
      "execution_count": null,
      "outputs": [
        {
          "output_type": "stream",
          "name": "stdout",
          "text": [
            "--2025-01-09 10:48:08--  https://raw.githubusercontent.com/rahmanziaur/EDGEICT/refs/heads/main/Dog.py\n",
            "Resolving raw.githubusercontent.com (raw.githubusercontent.com)... 185.199.108.133, 185.199.109.133, 185.199.110.133, ...\n",
            "Connecting to raw.githubusercontent.com (raw.githubusercontent.com)|185.199.108.133|:443... connected.\n",
            "HTTP request sent, awaiting response... 200 OK\n",
            "Length: 179 [text/plain]\n",
            "Saving to: ‘Dog.py’\n",
            "\n",
            "Dog.py              100%[===================>]     179  --.-KB/s    in 0s      \n",
            "\n",
            "2025-01-09 10:48:08 (9.11 MB/s) - ‘Dog.py’ saved [179/179]\n",
            "\n"
          ]
        }
      ]
    },
    {
      "cell_type": "code",
      "source": [
        "!wget https://raw.githubusercontent.com/rahmanziaur/EDGEICT/refs/heads/main/DriverClass1.py"
      ],
      "metadata": {
        "colab": {
          "base_uri": "https://localhost:8080/"
        },
        "id": "DA-yQl7ZHueT",
        "outputId": "c149739b-784d-44f0-9ea2-5aae4fe5c8b5"
      },
      "execution_count": null,
      "outputs": [
        {
          "output_type": "stream",
          "name": "stdout",
          "text": [
            "--2025-01-09 10:49:16--  https://raw.githubusercontent.com/rahmanziaur/EDGEICT/refs/heads/main/DriverClass1.py\n",
            "Resolving raw.githubusercontent.com (raw.githubusercontent.com)... 185.199.108.133, 185.199.109.133, 185.199.110.133, ...\n",
            "Connecting to raw.githubusercontent.com (raw.githubusercontent.com)|185.199.108.133|:443... connected.\n",
            "HTTP request sent, awaiting response... 200 OK\n",
            "Length: 165 [text/plain]\n",
            "Saving to: ‘DriverClass1.py’\n",
            "\n",
            "DriverClass1.py     100%[===================>]     165  --.-KB/s    in 0s      \n",
            "\n",
            "2025-01-09 10:49:16 (2.34 MB/s) - ‘DriverClass1.py’ saved [165/165]\n",
            "\n"
          ]
        }
      ]
    },
    {
      "cell_type": "code",
      "execution_count": null,
      "metadata": {
        "id": "VrOif8fjAeG5"
      },
      "outputs": [],
      "source": [
        "!python TestPack/Dog.py"
      ]
    },
    {
      "cell_type": "code",
      "source": [
        "!python testPack/Dog.py"
      ],
      "metadata": {
        "id": "J6sBf2GzIFbL"
      },
      "execution_count": null,
      "outputs": []
    },
    {
      "cell_type": "code",
      "source": [
        "!python DriverClass1.py"
      ],
      "metadata": {
        "id": "-XFehT9MCL8u"
      },
      "execution_count": null,
      "outputs": []
    },
    {
      "cell_type": "code",
      "source": [
        "!wget https://raw.githubusercontent.com/rahmanziaur/EDGEICT/refs/heads/main/DrivingDog.py"
      ],
      "metadata": {
        "colab": {
          "base_uri": "https://localhost:8080/"
        },
        "id": "AsJMx9wuCN5S",
        "outputId": "2be7e582-3d51-40dd-a6b5-352372e0b12e"
      },
      "execution_count": null,
      "outputs": [
        {
          "output_type": "stream",
          "name": "stdout",
          "text": [
            "--2025-01-09 11:04:45--  https://raw.githubusercontent.com/rahmanziaur/EDGEICT/refs/heads/main/DrivingDog.py\n",
            "Resolving raw.githubusercontent.com (raw.githubusercontent.com)... 185.199.108.133, 185.199.111.133, 185.199.109.133, ...\n",
            "Connecting to raw.githubusercontent.com (raw.githubusercontent.com)|185.199.108.133|:443... connected.\n",
            "HTTP request sent, awaiting response... 200 OK\n",
            "Length: 96 [text/plain]\n",
            "Saving to: ‘DrivingDog.py’\n",
            "\n",
            "\rDrivingDog.py         0%[                    ]       0  --.-KB/s               \rDrivingDog.py       100%[===================>]      96  --.-KB/s    in 0s      \n",
            "\n",
            "2025-01-09 11:04:45 (1.59 MB/s) - ‘DrivingDog.py’ saved [96/96]\n",
            "\n"
          ]
        }
      ]
    },
    {
      "cell_type": "code",
      "source": [
        "!python DrivingDog.py"
      ],
      "metadata": {
        "colab": {
          "base_uri": "https://localhost:8080/"
        },
        "id": "Cw7LBEy4vRmp",
        "outputId": "ddb710e4-80f1-4d91-f55c-b6c537dbe5c6"
      },
      "execution_count": null,
      "outputs": [
        {
          "output_type": "stream",
          "name": "stdout",
          "text": [
            "Name:My Dog\n",
            " Age:5\n"
          ]
        }
      ]
    },
    {
      "cell_type": "code",
      "source": [
        "# Example to demonstrate OOP concepts in Python\n",
        "\n",
        "# --- ABSTRACTION ---\n",
        "# Abstraction is achieved using abstract base classes. We define the blueprint of a class without implementing all methods.\n",
        "from abc import ABC, abstractmethod\n",
        "\n",
        "class Animal(ABC):\n",
        "    @abstractmethod\n",
        "    def sound(self):\n",
        "        \"\"\"Abstract method to be implemented by subclasses.\"\"\"\n",
        "        pass\n",
        "\n",
        "    @abstractmethod\n",
        "    def move(self):\n",
        "        \"\"\"Abstract method to be implemented by subclasses.\"\"\"\n",
        "        pass\n",
        "\n",
        "# --- ENCAPSULATION ---\n",
        "# Encapsulation restricts access to certain class attributes or methods. Use private/protected variables.\n",
        "class Dog(Animal):\n",
        "    def __init__(self, name):\n",
        "        self.__name = name  # Private attribute\n",
        "\n",
        "    def sound(self):\n",
        "        return \"Bark\"\n",
        "\n",
        "    def move(self):\n",
        "        return \"Runs on four legs\"\n",
        "\n",
        "    def get_name(self):\n",
        "        \"\"\"Public getter for private attribute.\"\"\"\n",
        "        return self.__name\n",
        "\n",
        "    def set_name(self, name):\n",
        "        \"\"\"Public setter for private attribute.\"\"\"\n",
        "        self.__name = name\n",
        "\n",
        "# --- INHERITANCE ---\n",
        "# Inheritance allows one class to inherit properties and methods from another class.\n",
        "class Cat(Animal):\n",
        "    def __init__(self, name):\n",
        "        self.name = name  # Public attribute\n",
        "\n",
        "    def sound(self):\n",
        "        return \"Meow\"\n",
        "\n",
        "    def move(self):\n",
        "        return \"Jumps gracefully\"\n",
        "\n",
        "# --- POLYMORPHISM ---\n",
        "# Polymorphism allows us to use the same interface for different data types or classes.\n",
        "def animal_behavior(animal):\n",
        "    \"\"\"This function works for any Animal instance.\"\"\"\n",
        "    print(f\"{animal.sound()} and {animal.move()}\")\n",
        "\n",
        "# --- ASSOCIATION ---\n",
        "# Association represents a relationship between objects. Here, a Person 'has-a' pet (but they are independent).\n",
        "class Person:\n",
        "    def __init__(self, name):\n",
        "        self.name = name\n",
        "        self.pet = None  # No pet initially\n",
        "\n",
        "    def adopt_pet(self, pet):\n",
        "        \"\"\"Associates a pet (Dog, Cat, etc.) with the person.\"\"\"\n",
        "        self.pet = pet\n",
        "\n",
        "# --- COMPOSITION ---\n",
        "# Composition means one object owns another object. Here, a Car 'is composed of' an Engine.\n",
        "class Engine:\n",
        "    def start(self):\n",
        "        return \"Engine starts\"\n",
        "\n",
        "    def stop(self):\n",
        "        return \"Engine stops\"\n",
        "\n",
        "class Car:\n",
        "    def __init__(self, model):\n",
        "        self.model = model\n",
        "        self.engine = Engine()  # Composition: Car owns Engine\n",
        "\n",
        "    def start_car(self):\n",
        "        return f\"{self.engine.start()} in the {self.model} car.\"\n",
        "\n",
        "    def stop_car(self):\n",
        "        return f\"{self.engine.stop()} in the {self.model} car.\"\n",
        "\n",
        "# --- MAIN FUNCTION TO DEMONSTRATE CONCEPTS ---\n",
        "if __name__ == \"__main__\":\n",
        "    # Abstraction and Encapsulation\n",
        "    dog = Dog(\"Buddy\")\n",
        "    print(f\"The dog's name is {dog.get_name()}\")\n",
        "    dog.set_name(\"Max\")\n",
        "    print(f\"The dog's new name is {dog.get_name()}\")\n",
        "\n",
        "    # Inheritance and Polymorphism\n",
        "    cat = Cat(\"Whiskers\")\n",
        "    animal_behavior(dog)  # Polymorphism: Dog behavior\n",
        "    animal_behavior(cat)  # Polymorphism: Cat behavior\n",
        "\n",
        "    # Association\n",
        "    person = Person(\"Alice\")\n",
        "    person.adopt_pet(dog)  # Alice adopts a dog\n",
        "    print(f\"{person.name} has adopted a pet named {person.pet.get_name()}.\")\n",
        "\n",
        "    # Composition\n",
        "    car = Car(\"Tesla Model S\")\n",
        "    print(car.start_car())\n",
        "    print(car.stop_car())\n"
      ],
      "metadata": {
        "colab": {
          "base_uri": "https://localhost:8080/"
        },
        "id": "4mgqU-V5yYTC",
        "outputId": "02d508c7-d03b-4720-9148-53ce31632968"
      },
      "execution_count": null,
      "outputs": [
        {
          "output_type": "stream",
          "name": "stdout",
          "text": [
            "The dog's name is Buddy\n",
            "The dog's new name is Max\n",
            "Bark and Runs on four legs\n",
            "Meow and Jumps gracefully\n",
            "Alice has adopted a pet named Max.\n",
            "Engine starts in the Tesla Model S car.\n",
            "Engine stops in the Tesla Model S car.\n"
          ]
        }
      ]
    },
    {
      "cell_type": "markdown",
      "source": [
        "**Python Statc Field Behaves Non-static, explain and exemplify**"
      ],
      "metadata": {
        "id": "oH6-wkAkIi8V"
      }
    },
    {
      "cell_type": "code",
      "source": [
        "class Dog:\n",
        "    species = \"canine\"\n",
        "\n",
        "    def __init__(self, name, age):\n",
        "        self.name = name\n",
        "        self.age = age\n",
        "\n",
        "# Create two instances\n",
        "dog1 = Dog(\"Buddy\", 3)\n",
        "dog2 = Dog(\"Max\", 5)\n",
        "\n",
        "print(\"Access species via class and instances\")\n",
        "print(Dog.species)  # Output: canine\n",
        "print(dog1.species)  # Output: canine\n",
        "print(dog2.species)  # Output: canine\n",
        "\n",
        "print(\"Modify species via class\")\n",
        "Dog.species = \"feline\" # behave like a sttaic member\n",
        "print(Dog.species)  # Output: feline\n",
        "print(dog1.species)  # Output: feline\n",
        "print(dog2.species)  # Output: feline\n",
        "\n",
        "print(\"Modify species via an instance\")\n",
        "dog1.species = \"wolf\" #behaving like nonstatic\n",
        "print(dog1.species)  # Output: wolf (instance-specific attribute)\n",
        "print(dog2.species)  # Output: feline (still the class-level attribute)\n",
        "print(Dog.species)   # Output: feline\n"
      ],
      "metadata": {
        "colab": {
          "base_uri": "https://localhost:8080/"
        },
        "id": "sp12imX0FM1M",
        "outputId": "4111ee83-8869-4529-d853-9c1a7fd7df68"
      },
      "execution_count": null,
      "outputs": [
        {
          "output_type": "stream",
          "name": "stdout",
          "text": [
            "Access species via class and instances\n",
            "canine\n",
            "canine\n",
            "canine\n",
            "Modify species via class\n",
            "feline\n",
            "feline\n",
            "feline\n",
            "Modify species via an instance\n",
            "wolf\n",
            "feline\n",
            "feline\n"
          ]
        }
      ]
    }
  ]
}