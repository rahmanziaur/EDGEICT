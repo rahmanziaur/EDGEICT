{
  "nbformat": 4,
  "nbformat_minor": 0,
  "metadata": {
    "colab": {
      "provenance": [],
      "authorship_tag": "ABX9TyP9IVJRPB5m7A+qb7d+HeE2",
      "include_colab_link": true
    },
    "kernelspec": {
      "name": "python3",
      "display_name": "Python 3"
    },
    "language_info": {
      "name": "python"
    }
  },
  "cells": [
    {
      "cell_type": "markdown",
      "metadata": {
        "id": "view-in-github",
        "colab_type": "text"
      },
      "source": [
        "<a href=\"https://colab.research.google.com/github/rahmanziaur/EDGEICT/blob/main/classtestedge.ipynb\" target=\"_parent\"><img src=\"https://colab.research.google.com/assets/colab-badge.svg\" alt=\"Open In Colab\"/></a>"
      ]
    },
    {
      "cell_type": "code",
      "source": [
        "!wget https://raw.githubusercontent.com/rahmanziaur/EDGEICT/refs/heads/main/Dog.py"
      ],
      "metadata": {
        "colab": {
          "base_uri": "https://localhost:8080/"
        },
        "id": "OOVuCSQgHowE",
        "outputId": "07827075-88f8-4bfd-cfa7-1633b35ac2d9"
      },
      "execution_count": null,
      "outputs": [
        {
          "output_type": "stream",
          "name": "stdout",
          "text": [
            "--2025-01-09 05:51:28--  https://raw.githubusercontent.com/rahmanziaur/EDGEICT/refs/heads/main/Dog.py\n",
            "Resolving raw.githubusercontent.com (raw.githubusercontent.com)... 185.199.108.133, 185.199.109.133, 185.199.110.133, ...\n",
            "Connecting to raw.githubusercontent.com (raw.githubusercontent.com)|185.199.108.133|:443... connected.\n",
            "HTTP request sent, awaiting response... 200 OK\n",
            "Length: 179 [text/plain]\n",
            "Saving to: ‘Dog.py’\n",
            "\n",
            "Dog.py              100%[===================>]     179  --.-KB/s    in 0s      \n",
            "\n",
            "2025-01-09 05:51:28 (7.52 MB/s) - ‘Dog.py’ saved [179/179]\n",
            "\n"
          ]
        }
      ]
    },
    {
      "cell_type": "code",
      "source": [
        "!wget https://raw.githubusercontent.com/rahmanziaur/EDGEICT/refs/heads/main/DriverClass1.py"
      ],
      "metadata": {
        "colab": {
          "base_uri": "https://localhost:8080/"
        },
        "id": "DA-yQl7ZHueT",
        "outputId": "d4bd01b1-c1f6-41a7-9627-90a7b2343575"
      },
      "execution_count": null,
      "outputs": [
        {
          "output_type": "stream",
          "name": "stdout",
          "text": [
            "--2025-01-09 05:51:53--  https://raw.githubusercontent.com/rahmanziaur/EDGEICT/refs/heads/main/DriverClass1.py\n",
            "Resolving raw.githubusercontent.com (raw.githubusercontent.com)... 185.199.108.133, 185.199.109.133, 185.199.110.133, ...\n",
            "Connecting to raw.githubusercontent.com (raw.githubusercontent.com)|185.199.108.133|:443... connected.\n",
            "HTTP request sent, awaiting response... 200 OK\n",
            "Length: 165 [text/plain]\n",
            "Saving to: ‘DriverClass1.py’\n",
            "\n",
            "\rDriverClass1.py       0%[                    ]       0  --.-KB/s               \rDriverClass1.py     100%[===================>]     165  --.-KB/s    in 0s      \n",
            "\n",
            "2025-01-09 05:51:53 (2.90 MB/s) - ‘DriverClass1.py’ saved [165/165]\n",
            "\n"
          ]
        }
      ]
    },
    {
      "cell_type": "code",
      "execution_count": null,
      "metadata": {
        "id": "VrOif8fjAeG5",
        "colab": {
          "base_uri": "https://localhost:8080/"
        },
        "outputId": "d6864d6b-73af-44a3-bffb-1b1a4dc1dc15"
      },
      "outputs": [
        {
          "output_type": "stream",
          "name": "stdout",
          "text": [
            "python3: can't open file '/content/Dog.py': [Errno 2] No such file or directory\n"
          ]
        }
      ],
      "source": [
        "!python Dog.py"
      ]
    },
    {
      "cell_type": "code",
      "source": [
        "!python testPack/Dog.py"
      ],
      "metadata": {
        "id": "J6sBf2GzIFbL"
      },
      "execution_count": null,
      "outputs": []
    },
    {
      "cell_type": "code",
      "source": [
        "!python DriverClass1.py"
      ],
      "metadata": {
        "colab": {
          "base_uri": "https://localhost:8080/"
        },
        "id": "-XFehT9MCL8u",
        "outputId": "8064429b-af26-45f6-c347-11bccb5e5a21"
      },
      "execution_count": null,
      "outputs": [
        {
          "output_type": "stream",
          "name": "stdout",
          "text": [
            "Name:BD Dog\n",
            " Age:5.5\n"
          ]
        }
      ]
    },
    {
      "cell_type": "code",
      "source": [
        "from DriverClass1 import DriverClass\n",
        "\n",
        "if __name__==\"__main__\":\n",
        "  dc = DriverClass()\n",
        "  dc.main()"
      ],
      "metadata": {
        "colab": {
          "base_uri": "https://localhost:8080/"
        },
        "id": "AsJMx9wuCN5S",
        "outputId": "f7521c2c-18af-4cff-a601-e2df98ad0432"
      },
      "execution_count": null,
      "outputs": [
        {
          "output_type": "stream",
          "name": "stdout",
          "text": [
            "Name:BD Dog\n",
            " Age:5.5\n"
          ]
        }
      ]
    },
    {
      "cell_type": "markdown",
      "source": [
        "**Python Statc Field Behaves Non-static, explain and exemplify**"
      ],
      "metadata": {
        "id": "oH6-wkAkIi8V"
      }
    },
    {
      "cell_type": "code",
      "source": [
        "class Dog:\n",
        "    species = \"canine\"\n",
        "\n",
        "    def __init__(self, name, age):\n",
        "        self.name = name\n",
        "        self.age = age\n",
        "\n",
        "# Create two instances\n",
        "dog1 = Dog(\"Buddy\", 3)\n",
        "dog2 = Dog(\"Max\", 5)\n",
        "\n",
        "print(\"Access species via class and instances\")\n",
        "print(Dog.species)  # Output: canine\n",
        "print(dog1.species)  # Output: canine\n",
        "print(dog2.species)  # Output: canine\n",
        "\n",
        "print(\"Modify species via class\")\n",
        "Dog.species = \"feline\" # behave like a sttaic member\n",
        "print(Dog.species)  # Output: feline\n",
        "print(dog1.species)  # Output: feline\n",
        "print(dog2.species)  # Output: feline\n",
        "\n",
        "print(\"Modify species via an instance\")\n",
        "dog1.species = \"wolf\" #behaving like nonstatic\n",
        "print(dog1.species)  # Output: wolf (instance-specific attribute)\n",
        "print(dog2.species)  # Output: feline (still the class-level attribute)\n",
        "print(Dog.species)   # Output: feline\n"
      ],
      "metadata": {
        "colab": {
          "base_uri": "https://localhost:8080/"
        },
        "id": "sp12imX0FM1M",
        "outputId": "4111ee83-8869-4529-d853-9c1a7fd7df68"
      },
      "execution_count": null,
      "outputs": [
        {
          "output_type": "stream",
          "name": "stdout",
          "text": [
            "Access species via class and instances\n",
            "canine\n",
            "canine\n",
            "canine\n",
            "Modify species via class\n",
            "feline\n",
            "feline\n",
            "feline\n",
            "Modify species via an instance\n",
            "wolf\n",
            "feline\n",
            "feline\n"
          ]
        }
      ]
    },
    {
      "cell_type": "markdown",
      "source": [
        "**Explanation of Concepts:**\n",
        "\n",
        "**Abstraction: **\n",
        "Shape is an abstract class, with abstract methods area() and perimeter(). This hides the complexity of the shapes' specific calculations and forces the subclasses to provide their own implementation.\n",
        "\n",
        "**Encapsulation:**\n",
        "Both Circle and Rectangle classes encapsulate the properties (e.g., radius, width, height) using private variables like _radius, _width, and _height. This ensures that direct access to these attributes is restricted and controlled via methods.\n",
        "\n",
        "**Inheritance:**\n",
        "Circle and Rectangle both inherit from the Shape class, which allows them to reuse the structure of the abstract base class and implement their own versions of the abstract methods.\n",
        "\n",
        "**Polymorphism:**\n",
        "The print_shape_info function demonstrates polymorphism by accepting objects of different types (Circle and Rectangle) and calling the same methods (area() and perimeter()), while the specific implementation of these methods differs depending on the object type.\n",
        "\n",
        "This code illustrates how these four key object-oriented principles can work together in Python. Now see this example given by ChatGPT."
      ],
      "metadata": {
        "id": "GacBV0W8zIgC"
      }
    },
    {
      "cell_type": "code",
      "source": [
        "from abc import ABC, abstractmethod\n",
        "\n",
        "# Abstract Base Class - Abstraction\n",
        "class Shape(ABC):\n",
        "    @abstractmethod\n",
        "    def area(self):\n",
        "        pass\n",
        "\n",
        "    @abstractmethod\n",
        "    def perimeter(self):\n",
        "        pass\n",
        "\n",
        "\n",
        "# Encapsulation - Circle class\n",
        "class Circle(Shape):\n",
        "    def __init__(self, radius):\n",
        "        # Encapsulation: Private attribute _radius\n",
        "        self._radius = radius  # Encapsulating the radius attribute\n",
        "\n",
        "    # Implementing abstract methods (Polymorphism)\n",
        "    def area(self):\n",
        "        return 3.14 * self._radius ** 2\n",
        "\n",
        "    def perimeter(self):\n",
        "        return 2 * 3.14 * self._radius\n",
        "\n",
        "\n",
        "# Encapsulation - Rectangle class\n",
        "class Rectangle(Shape):\n",
        "    def __init__(self, width, height):\n",
        "        # Encapsulation: Private attributes _width and _height\n",
        "        self._width = width\n",
        "        self._height = height\n",
        "\n",
        "    # Implementing abstract methods (Polymorphism)\n",
        "    def area(self):\n",
        "        return self._width * self._height\n",
        "\n",
        "    def perimeter(self):\n",
        "        return 2 * (self._width + self._height)\n",
        "\n",
        "\n",
        "# Demonstrating Inheritance, Polymorphism, and Encapsulation\n",
        "def print_shape_info(shape):\n",
        "    print(f\"Area: {shape.area()}\")\n",
        "    print(f\"Perimeter: {shape.perimeter()}\")\n",
        "\n",
        "\n",
        "# Create instances of Circle and Rectangle\n",
        "circle = Circle(5)\n",
        "rectangle = Rectangle(4, 6)\n",
        "\n",
        "# Polymorphism: Calling the same function with different objects\n",
        "print(\"Circle Information:\")\n",
        "print_shape_info(circle)\n",
        "\n",
        "print(\"\\nRectangle Information:\")\n",
        "print_shape_info(rectangle)\n"
      ],
      "metadata": {
        "id": "ghvyYwqsvLTc"
      },
      "execution_count": null,
      "outputs": []
    }
  ]
}