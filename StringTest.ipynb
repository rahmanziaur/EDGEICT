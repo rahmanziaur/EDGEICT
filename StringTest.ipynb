{
 "cells": [
  {
   "cell_type": "code",
   "execution_count": 3,
   "id": "35569059-8f12-43df-955e-f0d061edf172",
   "metadata": {},
   "outputs": [
    {
     "name": "stdout",
     "output_type": "stream",
     "text": [
      "This is Batch 50 of EDGE Project\n",
      "Th\n",
      "This is Batch 50\n"
     ]
    }
   ],
   "source": [
    "text1 = \"This is Batch 50\"\n",
    "text2 = text1+\" of EDGE Project\"\n",
    "\n",
    "print(text2)\n",
    "print(text2[:2])\n",
    "print(text2[:4]+text2[4:16])"
   ]
  },
  {
   "cell_type": "code",
   "execution_count": null,
   "id": "15038d79-333b-46f9-b6c5-e8d9333c1bdd",
   "metadata": {},
   "outputs": [],
   "source": []
  }
 ],
 "metadata": {
  "kernelspec": {
   "display_name": "Python 3 (ipykernel)",
   "language": "python",
   "name": "python3"
  },
  "language_info": {
   "codemirror_mode": {
    "name": "ipython",
    "version": 3
   },
   "file_extension": ".py",
   "mimetype": "text/x-python",
   "name": "python",
   "nbconvert_exporter": "python",
   "pygments_lexer": "ipython3",
   "version": "3.13.1"
  }
 },
 "nbformat": 4,
 "nbformat_minor": 5
}
