{
  "nbformat": 4,
  "nbformat_minor": 0,
  "metadata": {
    "colab": {
      "provenance": [],
      "authorship_tag": "ABX9TyNWH3TuIKZ2VlvHx10yMTQq",
      "include_colab_link": true
    },
    "kernelspec": {
      "name": "python3",
      "display_name": "Python 3"
    },
    "language_info": {
      "name": "python"
    }
  },
  "cells": [
    {
      "cell_type": "markdown",
      "metadata": {
        "id": "view-in-github",
        "colab_type": "text"
      },
      "source": [
        "<a href=\"https://colab.research.google.com/github/rahmanziaur/EDGEICT/blob/main/22dectuple.ipynb\" target=\"_parent\"><img src=\"https://colab.research.google.com/assets/colab-badge.svg\" alt=\"Open In Colab\"/></a>"
      ]
    },
    {
      "cell_type": "code",
      "execution_count": null,
      "metadata": {
        "colab": {
          "base_uri": "https://localhost:8080/"
        },
        "id": "z9CjxzHMrUUl",
        "outputId": "0bea1d9c-f612-427f-b638-7665ba702664"
      },
      "outputs": [
        {
          "output_type": "stream",
          "name": "stdout",
          "text": [
            "('apple', 'banana', 'cherry')\n",
            "(1, 5, 7, 9, 3)\n",
            "(True, False, False)\n",
            "True\n",
            "0\n",
            "False\n",
            "1\n",
            "False\n",
            "1\n"
          ]
        }
      ],
      "source": [
        "tuple1 = (\"apple\", \"banana\", \"cherry\")\n",
        "tuple2 = (1, 5, 7, 9, 3)\n",
        "tuple3 = (True, False, False)\n",
        "\n",
        "print(tuple1)\n",
        "print(tuple2)\n",
        "print(tuple3)\n",
        "\n",
        "mytuple = (\"apple\", \"banana\", \"cherry\", \"Cherry\")\n",
        "\n",
        "for x in tuple3:\n",
        "  print(x)\n",
        "  print(tuple3.index(x))\n",
        "\n"
      ]
    },
    {
      "cell_type": "code",
      "source": [
        "print([list(i for i in range(6))])"
      ],
      "metadata": {
        "colab": {
          "base_uri": "https://localhost:8080/"
        },
        "id": "xb84fcErtzmR",
        "outputId": "539c50fd-d433-4f25-cb36-e1add3d73e23"
      },
      "execution_count": null,
      "outputs": [
        {
          "output_type": "stream",
          "name": "stdout",
          "text": [
            "<generator object <genexpr> at 0x7c6d865e2a40>\n"
          ]
        }
      ]
    },
    {
      "cell_type": "code",
      "source": [
        "# Define a tuple\n",
        "example_tuple = (1, 2, 3, 3, 4, 5)\n",
        "\n",
        "# Ordered: Access elements by index\n",
        "print(\"First element:\", example_tuple[0])  # Output: 1\n",
        "print(\"Last element:\", example_tuple[-1])  # Output: 5\n",
        "\n",
        "# Unchangeable: Attempting to change an element raises an error\n",
        "try:\n",
        "    example_tuple[1] = 10  # This will raise an error\n",
        "except TypeError as e:\n",
        "    print(\"Error:\", e)\n",
        "\n",
        "# Allows duplicates: Tuple can have repeated elements\n",
        "print(\"Original tuple:\", example_tuple)  # Output: (1, 2, 3, 3, 4, 5)\n",
        "print(\"Count of 3:\", example_tuple.count(3))  # Output: 2\n",
        "\n",
        "# Iterating over the tuple (demonstrating order)\n",
        "for item in example_tuple:\n",
        "    print(item, end=\" \")  # Output: 1 2 3 3 4 5\n"
      ],
      "metadata": {
        "id": "T6M_Qb_H0d9x"
      },
      "execution_count": null,
      "outputs": []
    },
    {
      "cell_type": "code",
      "source": [
        "!wget https://raw.githubusercontent.com/rahmanziaur/EDGEICT/refs/heads/main/SimCal.py"
      ],
      "metadata": {
        "colab": {
          "base_uri": "https://localhost:8080/"
        },
        "id": "HnONA0SJ8JDw",
        "outputId": "b1ae490c-f856-4bfc-fd0a-f5bfd96f8270"
      },
      "execution_count": null,
      "outputs": [
        {
          "output_type": "stream",
          "name": "stdout",
          "text": [
            "--2024-12-22 10:39:46--  https://raw.githubusercontent.com/rahmanziaur/EDGEICT/refs/heads/main/SimCal.py\n",
            "Resolving raw.githubusercontent.com (raw.githubusercontent.com)... 185.199.108.133, 185.199.109.133, 185.199.110.133, ...\n",
            "Connecting to raw.githubusercontent.com (raw.githubusercontent.com)|185.199.108.133|:443... connected.\n",
            "HTTP request sent, awaiting response... 200 OK\n",
            "Length: 224 [text/plain]\n",
            "Saving to: ‘SimCal.py’\n",
            "\n",
            "\rSimCal.py             0%[                    ]       0  --.-KB/s               \rSimCal.py           100%[===================>]     224  --.-KB/s    in 0s      \n",
            "\n",
            "2024-12-22 10:39:46 (3.85 MB/s) - ‘SimCal.py’ saved [224/224]\n",
            "\n"
          ]
        }
      ]
    },
    {
      "cell_type": "code",
      "source": [
        "import SimCal as s\n",
        "\n",
        "while True:\n",
        "  print(\"Enter 1 to add, \\n2 to subtract, \\n3 to multiplication and \\n4 for division\\n 0 to exit\")\n",
        "\n",
        "  choice = int(input(\"Your Choice:\"))\n",
        "\n",
        "  if choice ==0:\n",
        "     break\n",
        "\n",
        "  if choice==1:\n",
        "     a = int(input(\"Enter a:\"))\n",
        "     b = int(input(\"Enter b:\"))\n",
        "     print(s.add(a,b))\n",
        "  if choice==2:\n",
        "     a = int(input(\"Enter a:\"))\n",
        "     b = int(input(\"Enter b:\"))\n",
        "     print(s.sub(a,b))\n",
        "  if choice==3:\n",
        "     a = int(input(\"Enter a:\"))\n",
        "     b = int(input(\"Enter b:\"))\n",
        "     print(s.mul(a,b))\n",
        "  if choice==4:\n",
        "     a = int(input(\"Enter a:\"))\n",
        "     b = int(input(\"Enter b:\"))\n",
        "     print(s.div(a,b))"
      ],
      "metadata": {
        "colab": {
          "base_uri": "https://localhost:8080/"
        },
        "id": "dRk2aV3I88Uq",
        "outputId": "71a8cf1c-d72c-4f37-ae5e-c828b0f2aa7e"
      },
      "execution_count": null,
      "outputs": [
        {
          "name": "stdout",
          "output_type": "stream",
          "text": [
            "Enter 1 to add, \n",
            "2 to subtract, \n",
            "3 to multiplication and \n",
            "4 for division\n",
            " 0 to exit\n",
            "Your Choice:1\n",
            "Enter a:23\n",
            "Enter b:56\n",
            "79\n",
            "Enter 1 to add, \n",
            "2 to subtract, \n",
            "3 to multiplication and \n",
            "4 for division\n",
            " 0 to exit\n",
            "Your Choice:2\n",
            "Enter a:2\n",
            "Enter b:45\n",
            "43\n",
            "Enter 1 to add, \n",
            "2 to subtract, \n",
            "3 to multiplication and \n",
            "4 for division\n",
            " 0 to exit\n",
            "Your Choice:3\n",
            "Enter a:23\n",
            "Enter b:34\n",
            "782\n",
            "Enter 1 to add, \n",
            "2 to subtract, \n",
            "3 to multiplication and \n",
            "4 for division\n",
            " 0 to exit\n",
            "Your Choice:4\n",
            "Enter a:12\n",
            "Enter b:0\n",
            "Infinity\n",
            "Enter 1 to add, \n",
            "2 to subtract, \n",
            "3 to multiplication and \n",
            "4 for division\n",
            " 0 to exit\n",
            "Your Choice:4\n",
            "Enter a:23\n",
            "Enter b:45\n",
            "0.5111111111111111\n",
            "Enter 1 to add, \n",
            "2 to subtract, \n",
            "3 to multiplication and \n",
            "4 for division\n",
            " 0 to exit\n",
            "Your Choice:0\n"
          ]
        }
      ]
    },
    {
      "cell_type": "markdown",
      "source": [
        "Consider the following two programs and now add pow(a,b) and mod(a,b) functions to your module and revise the driver codes accordingly.\n",
        "\n",
        "# SimCal.py\n",
        "\n",
        "def add(a, b):\n",
        "  return a+b\n",
        "\n",
        "def sub(a, b):\n",
        "  if a > b:\n",
        "    return a-b\n",
        "  else:\n",
        "    return b-a\n",
        "\n",
        "def mul(a, b):\n",
        "  return a * b\n",
        "\n",
        "def div(a,b):\n",
        "  if b!=0:\n",
        "   return a/b\n",
        "  else:\n",
        "   return \"Infinity\"\n",
        "\n",
        "#TestCal.py\n",
        "\n",
        "import SimCal as s\n",
        "\n",
        "while True:\n",
        "  print(\"Enter 1 to add, \\n2 to subtract, \\n3 to multiplication and \\n4 for division\\n 0 to exit\")\n",
        "\n",
        "  choice = int(input(\"Your Choice:\"))\n",
        "\n",
        "  if choice ==0:\n",
        "     break\n",
        "    \n",
        "  if choice==1:\n",
        "     a = int(input(\"Enter a:\"))\n",
        "     b = int(input(\"Enter b:\"))\n",
        "     print(s.add(a,b))\n",
        "  if choice==2:\n",
        "     a = int(input(\"Enter a:\"))\n",
        "     b = int(input(\"Enter b:\"))\n",
        "     print(s.sub(a,b))\n",
        "  if choice==3:\n",
        "     a = int(input(\"Enter a:\"))\n",
        "     b = int(input(\"Enter b:\"))\n",
        "     print(s.mul(a,b))\n",
        "  if choice==4:\n",
        "     a = int(input(\"Enter a:\"))\n",
        "     b = int(input(\"Enter b:\"))\n",
        "     print(s.div(a,b))"
      ],
      "metadata": {
        "id": "COGJYhT39ctw"
      }
    }
  ]
}