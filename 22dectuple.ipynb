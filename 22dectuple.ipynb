{
  "nbformat": 4,
  "nbformat_minor": 0,
  "metadata": {
    "colab": {
      "provenance": [],
      "authorship_tag": "ABX9TyNFSwT17I86Idy23NPvT0yN",
      "include_colab_link": true
    },
    "kernelspec": {
      "name": "python3",
      "display_name": "Python 3"
    },
    "language_info": {
      "name": "python"
    }
  },
  "cells": [
    {
      "cell_type": "markdown",
      "metadata": {
        "id": "view-in-github",
        "colab_type": "text"
      },
      "source": [
        "<a href=\"https://colab.research.google.com/github/rahmanziaur/EDGEICT/blob/main/22dectuple.ipynb\" target=\"_parent\"><img src=\"https://colab.research.google.com/assets/colab-badge.svg\" alt=\"Open In Colab\"/></a>"
      ]
    },
    {
      "cell_type": "code",
      "execution_count": null,
      "metadata": {
        "colab": {
          "base_uri": "https://localhost:8080/"
        },
        "id": "z9CjxzHMrUUl",
        "outputId": "0bea1d9c-f612-427f-b638-7665ba702664"
      },
      "outputs": [
        {
          "output_type": "stream",
          "name": "stdout",
          "text": [
            "('apple', 'banana', 'cherry')\n",
            "(1, 5, 7, 9, 3)\n",
            "(True, False, False)\n",
            "True\n",
            "0\n",
            "False\n",
            "1\n",
            "False\n",
            "1\n"
          ]
        }
      ],
      "source": [
        "tuple1 = (\"apple\", \"banana\", \"cherry\")\n",
        "tuple2 = (1, 5, 7, 9, 3)\n",
        "tuple3 = (True, False, False)\n",
        "\n",
        "print(tuple1)\n",
        "print(tuple2)\n",
        "print(tuple3)\n",
        "\n",
        "mytuple = (\"apple\", \"banana\", \"cherry\", \"Cherry\")\n",
        "\n",
        "for x in tuple3:\n",
        "  print(x)\n",
        "  print(tuple3.index(x))\n",
        "\n"
      ]
    },
    {
      "cell_type": "code",
      "source": [
        "print(tuple(i for i in range(6)))"
      ],
      "metadata": {
        "colab": {
          "base_uri": "https://localhost:8080/"
        },
        "id": "xb84fcErtzmR",
        "outputId": "558239c9-fb42-4320-83a9-f473583affea"
      },
      "execution_count": null,
      "outputs": [
        {
          "output_type": "stream",
          "name": "stdout",
          "text": [
            "(0, 1, 2, 3, 4, 5)\n"
          ]
        }
      ]
    },
    {
      "cell_type": "code",
      "source": [
        "# Define a tuple\n",
        "example_tuple = (1, 2, 3, 3, 4, 5)\n",
        "\n",
        "# Ordered: Access elements by index\n",
        "print(\"First element:\", example_tuple[0])  # Output: 1\n",
        "print(\"Last element:\", example_tuple[-1])  # Output: 5\n",
        "\n",
        "# Unchangeable: Attempting to change an element raises an error\n",
        "try:\n",
        "    example_tuple[1] = 10  # This will raise an error\n",
        "except TypeError as e:\n",
        "    print(\"Error:\", e)\n",
        "\n",
        "# Allows duplicates: Tuple can have repeated elements\n",
        "print(\"Original tuple:\", example_tuple)  # Output: (1, 2, 3, 3, 4, 5)\n",
        "print(\"Count of 3:\", example_tuple.count(3))  # Output: 2\n",
        "\n",
        "# Iterating over the tuple (demonstrating order)\n",
        "for item in example_tuple:\n",
        "    print(item, end=\" \")  # Output: 1 2 3 3 4 5\n"
      ],
      "metadata": {
        "id": "T6M_Qb_H0d9x"
      },
      "execution_count": null,
      "outputs": []
    },
    {
      "cell_type": "markdown",
      "source": [
        "**Python 'Set' Practice **"
      ],
      "metadata": {
        "id": "2WMtmTjQ9ctJ"
      }
    },
    {
      "cell_type": "markdown",
      "source": [
        "A set is a collection which is unordered, unchangeable*, and unindexed."
      ],
      "metadata": {
        "id": "c-STbWJ09qvf"
      }
    },
    {
      "cell_type": "code",
      "source": [
        "testset = {\"apple\", \"banana\", \"cherry\", True, 1, 2}\n",
        "for val in testset:\n",
        "    print(val)"
      ],
      "metadata": {
        "colab": {
          "base_uri": "https://localhost:8080/"
        },
        "id": "cR2Le3yB9h8f",
        "outputId": "1aeecda8-a0cc-48ad-ae93-cd2888ea359b"
      },
      "execution_count": null,
      "outputs": [
        {
          "output_type": "stream",
          "name": "stdout",
          "text": [
            "cherry\n",
            "2\n",
            "True\n",
            "apple\n",
            "banana\n"
          ]
        }
      ]
    },
    {
      "cell_type": "code",
      "source": [
        "# importing libraries\n",
        "from timeit import default_timer as timer\n",
        "import itertools\n",
        "import random\n",
        "\n",
        "# Function under evaluation\n",
        "def test_func(test_set):\n",
        "\n",
        "\tfor val in test_set:\n",
        "\t\t_ = val\n",
        "\n",
        "# Driver function\n",
        "if __name__ == '__main__':\n",
        "\n",
        "\trandom.seed(21)\n",
        "\n",
        "\tfor _ in range(5):\n",
        "\t\ttest_set = set()\n",
        "\n",
        "\t\t# generating a set of random numbers\n",
        "\t\tfor el in range(int(1e6)):\n",
        "\t\t\tel = random.random()\n",
        "\t\t\ttest_set.add(el)\n",
        "\n",
        "\t\tstart = timer()\n",
        "\t\ttest_func(test_set)\n",
        "\t\tend = timer()\n",
        "\n",
        "\t\tprint(str(end - start))\n"
      ],
      "metadata": {
        "colab": {
          "base_uri": "https://localhost:8080/"
        },
        "id": "m8T40EwT_HuJ",
        "outputId": "eab5ef35-a2a5-4af4-97e1-2200ce08ac1d"
      },
      "execution_count": null,
      "outputs": [
        {
          "output_type": "stream",
          "name": "stdout",
          "text": [
            "0.08843392799997218\n",
            "0.09016933200007315\n",
            "0.0892683089999764\n",
            "0.0878868089999969\n",
            "0.08943041300005916\n"
          ]
        }
      ]
    },
    {
      "cell_type": "code",
      "source": [
        "print(int(1e6))"
      ],
      "metadata": {
        "colab": {
          "base_uri": "https://localhost:8080/"
        },
        "id": "SiqSKNs6_aiQ",
        "outputId": "25c5f189-35b6-4b05-9802-33b7829be84f"
      },
      "execution_count": null,
      "outputs": [
        {
          "output_type": "stream",
          "name": "stdout",
          "text": [
            "1000000\n"
          ]
        }
      ]
    },
    {
      "cell_type": "markdown",
      "source": [],
      "metadata": {
        "id": "l3PziFMrNMo1"
      }
    },
    {
      "cell_type": "code",
      "source": [
        "!git clone https://github.com/rahmanziaur/EDGEICT.git"
      ],
      "metadata": {
        "colab": {
          "base_uri": "https://localhost:8080/"
        },
        "id": "zba1BjbaNOI0",
        "outputId": "3b9a07d2-5f76-4898-8640-48480589cd96"
      },
      "execution_count": null,
      "outputs": [
        {
          "output_type": "stream",
          "name": "stdout",
          "text": [
            "fatal: destination path 'EDGEICT' already exists and is not an empty directory.\n"
          ]
        }
      ]
    },
    {
      "cell_type": "code",
      "source": [
        "from SimCal import add"
      ],
      "metadata": {
        "colab": {
          "base_uri": "https://localhost:8080/",
          "height": 314
        },
        "id": "vDLh4u_3Nagc",
        "outputId": "c21e66c9-978f-4864-adcc-110b573af7b9"
      },
      "execution_count": null,
      "outputs": [
        {
          "output_type": "error",
          "ename": "ModuleNotFoundError",
          "evalue": "No module named 'SimCal'",
          "traceback": [
            "\u001b[0;31m---------------------------------------------------------------------------\u001b[0m",
            "\u001b[0;31mModuleNotFoundError\u001b[0m                       Traceback (most recent call last)",
            "\u001b[0;32m<ipython-input-26-4e6d569256e7>\u001b[0m in \u001b[0;36m<cell line: 1>\u001b[0;34m()\u001b[0m\n\u001b[0;32m----> 1\u001b[0;31m \u001b[0;32mfrom\u001b[0m \u001b[0mSimCal\u001b[0m \u001b[0;32mimport\u001b[0m \u001b[0madd\u001b[0m\u001b[0;34m\u001b[0m\u001b[0;34m\u001b[0m\u001b[0m\n\u001b[0m",
            "\u001b[0;31mModuleNotFoundError\u001b[0m: No module named 'SimCal'",
            "",
            "\u001b[0;31m---------------------------------------------------------------------------\u001b[0;32m\nNOTE: If your import is failing due to a missing package, you can\nmanually install dependencies using either !pip or !apt.\n\nTo view examples of installing some common dependencies, click the\n\"Open Examples\" button below.\n\u001b[0;31m---------------------------------------------------------------------------\u001b[0m\n"
          ],
          "errorDetails": {
            "actions": [
              {
                "action": "open_url",
                "actionText": "Open Examples",
                "url": "/notebooks/snippets/importing_libraries.ipynb"
              }
            ]
          }
        }
      ]
    },
    {
      "cell_type": "code",
      "source": [
        "!pip install SimCal"
      ],
      "metadata": {
        "colab": {
          "base_uri": "https://localhost:8080/"
        },
        "id": "M6bBCwq8Pgzu",
        "outputId": "08dadd1b-d196-4a93-e35a-a7318de42674"
      },
      "execution_count": null,
      "outputs": [
        {
          "output_type": "stream",
          "name": "stdout",
          "text": [
            "Requirement already satisfied: SimCal in /usr/local/lib/python3.10/dist-packages (0.0.1)\n"
          ]
        }
      ]
    },
    {
      "cell_type": "code",
      "source": [
        "from EDGEICT.SimCal import add, mul"
      ],
      "metadata": {
        "id": "UfyLLhQaPlSF"
      },
      "execution_count": null,
      "outputs": []
    },
    {
      "cell_type": "code",
      "source": [
        "mul(12,34)"
      ],
      "metadata": {
        "colab": {
          "base_uri": "https://localhost:8080/"
        },
        "id": "4Tx5REM3P7Gl",
        "outputId": "4a06e701-a350-4275-9ad2-de4b1495bcbd"
      },
      "execution_count": null,
      "outputs": [
        {
          "output_type": "execute_result",
          "data": {
            "text/plain": [
              "408"
            ]
          },
          "metadata": {},
          "execution_count": 34
        }
      ]
    },
    {
      "cell_type": "code",
      "source": [
        "import EDGEICT.SimCal"
      ],
      "metadata": {
        "id": "SzBdYQVkQLAt"
      },
      "execution_count": null,
      "outputs": []
    },
    {
      "cell_type": "code",
      "source": [
        "import EDGEICT.SimCal as s\n",
        "\n",
        "while True:\n",
        "  print(\"Enter 1 to add, \\n2 to subtract, \\n3 to multiplication and \\n4 for division\\n 0 to exit\")\n",
        "\n",
        "  choice = int(input(\"Your Choice:\"))\n",
        "\n",
        "  if choice ==0:\n",
        "     break\n",
        "\n",
        "  if choice==1:\n",
        "     a = int(input(\"Enter a:\"))\n",
        "     b = int(input(\"Enter b:\"))\n",
        "     print(s.add(a,b))\n",
        "  if choice==2:\n",
        "     a = int(input(\"Enter a:\"))\n",
        "     b = int(input(\"Enter b:\"))\n",
        "     print(s.sub(a,b))\n",
        "  if choice==3:\n",
        "     a = int(input(\"Enter a:\"))\n",
        "     b = int(input(\"Enter b:\"))\n",
        "     print(s.mul(a,b))\n",
        "  if choice==4:\n",
        "     a = int(input(\"Enter a:\"))\n",
        "     b = int(input(\"Enter b:\"))\n",
        "     print(s.div(a,b))\n",
        "\n",
        "\n"
      ],
      "metadata": {
        "colab": {
          "base_uri": "https://localhost:8080/"
        },
        "id": "ZTuewqqeQRKN",
        "outputId": "ca3e8c4a-0fbc-4fd2-fc32-c0f73e821ee9"
      },
      "execution_count": null,
      "outputs": [
        {
          "name": "stdout",
          "output_type": "stream",
          "text": [
            "Enter 1 to add, \n",
            "2 to subtract, \n",
            "3 to multiplication and \n",
            "4 for division\n",
            " 0 to exit\n",
            "Your Choice:2\n",
            "Enter a:2\n",
            "Enter b:45\n",
            "43\n",
            "Enter 1 to add, \n",
            "2 to subtract, \n",
            "3 to multiplication and \n",
            "4 for division\n",
            " 0 to exit\n",
            "Your Choice:0\n"
          ]
        }
      ]
    }
  ]
}