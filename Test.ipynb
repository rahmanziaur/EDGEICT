{
  "nbformat": 4,
  "nbformat_minor": 0,
  "metadata": {
    "colab": {
      "provenance": [],
      "authorship_tag": "ABX9TyPf4/I0MVRf4h/9aAL7ewVl",
      "include_colab_link": true
    },
    "kernelspec": {
      "name": "python3",
      "display_name": "Python 3"
    },
    "language_info": {
      "name": "python"
    }
  },
  "cells": [
    {
      "cell_type": "markdown",
      "metadata": {
        "id": "view-in-github",
        "colab_type": "text"
      },
      "source": [
        "<a href=\"https://colab.research.google.com/github/rahmanziaur/EDGEICT/blob/main/Test.ipynb\" target=\"_parent\"><img src=\"https://colab.research.google.com/assets/colab-badge.svg\" alt=\"Open In Colab\"/></a>"
      ]
    },
    {
      "cell_type": "code",
      "execution_count": 2,
      "metadata": {
        "colab": {
          "base_uri": "https://localhost:8080/"
        },
        "id": "sFrSEQRG8OTI",
        "outputId": "a74ca722-b920-4169-b34a-31384566353b"
      },
      "outputs": [
        {
          "name": "stdout",
          "output_type": "stream",
          "text": [
            "Enter Name:Samiul\n"
          ]
        }
      ],
      "source": [
        "a = input('Enter Name:')"
      ]
    },
    {
      "cell_type": "code",
      "source": [
        "print(\"Assalamualykum \"+a)"
      ],
      "metadata": {
        "colab": {
          "base_uri": "https://localhost:8080/"
        },
        "id": "t8NaF8XB8W9k",
        "outputId": "bd58aa2e-08f9-43fc-ca4c-7997fdd3a725"
      },
      "execution_count": 3,
      "outputs": [
        {
          "output_type": "stream",
          "name": "stdout",
          "text": [
            "Assalamualykum Samiul\n"
          ]
        }
      ]
    },
    {
      "cell_type": "code",
      "source": [
        "for n in range(2, 10):\n",
        "    for x in range(2, n):\n",
        "        if n % x == 0:\n",
        "            print(n,\" = \", x,\" x \", n//x)\n",
        "            break\n",
        "    else:\n",
        "        print(n, \" is a prime number\")"
      ],
      "metadata": {
        "colab": {
          "base_uri": "https://localhost:8080/"
        },
        "id": "C9d2HejV9V88",
        "outputId": "129c5103-a19c-4a49-acf7-9049adc3ece0"
      },
      "execution_count": 4,
      "outputs": [
        {
          "output_type": "stream",
          "name": "stdout",
          "text": [
            "2  is a prime number\n",
            "3  is a prime number\n",
            "4  =  2  x  2\n",
            "5  is a prime number\n",
            "6  =  2  x  3\n",
            "7  is a prime number\n",
            "8  =  2  x  4\n",
            "9  =  3  x  3\n"
          ]
        }
      ]
    }
  ]
}