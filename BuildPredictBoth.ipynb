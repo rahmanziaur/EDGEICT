{
  "nbformat": 4,
  "nbformat_minor": 0,
  "metadata": {
    "colab": {
      "provenance": [],
      "authorship_tag": "ABX9TyMoX6YSIl0j66sEnd6BDxfp",
      "include_colab_link": true
    },
    "kernelspec": {
      "name": "python3",
      "display_name": "Python 3"
    },
    "language_info": {
      "name": "python"
    }
  },
  "cells": [
    {
      "cell_type": "markdown",
      "metadata": {
        "id": "view-in-github",
        "colab_type": "text"
      },
      "source": [
        "<a href=\"https://colab.research.google.com/github/rahmanziaur/EDGEICT/blob/main/BuildPredictBoth.ipynb\" target=\"_parent\"><img src=\"https://colab.research.google.com/assets/colab-badge.svg\" alt=\"Open In Colab\"/></a>"
      ]
    },
    {
      "cell_type": "code",
      "execution_count": 1,
      "metadata": {
        "colab": {
          "base_uri": "https://localhost:8080/"
        },
        "id": "DKdwJFNW7bkr",
        "outputId": "77237621-de2a-4c43-c4a8-5124c956bd14"
      },
      "outputs": [
        {
          "output_type": "stream",
          "name": "stdout",
          "text": [
            "--2025-01-20 13:37:50--  https://raw.githubusercontent.com/rahmanziaur/MLModelPythonZia/refs/heads/main/build.py\n",
            "Resolving raw.githubusercontent.com (raw.githubusercontent.com)... 185.199.110.133, 185.199.111.133, 185.199.108.133, ...\n",
            "Connecting to raw.githubusercontent.com (raw.githubusercontent.com)|185.199.110.133|:443... connected.\n",
            "HTTP request sent, awaiting response... 200 OK\n",
            "Length: 1284 (1.3K) [text/plain]\n",
            "Saving to: ‘build.py’\n",
            "\n",
            "\rbuild.py              0%[                    ]       0  --.-KB/s               \rbuild.py            100%[===================>]   1.25K  --.-KB/s    in 0s      \n",
            "\n",
            "2025-01-20 13:37:50 (47.7 MB/s) - ‘build.py’ saved [1284/1284]\n",
            "\n"
          ]
        }
      ],
      "source": [
        "!wget https://raw.githubusercontent.com/rahmanziaur/MLModelPythonZia/refs/heads/main/build.py"
      ]
    },
    {
      "cell_type": "code",
      "source": [
        "!wget https://raw.githubusercontent.com/rahmanziaur/MLModelPythonZia/refs/heads/main/iris1.csv"
      ],
      "metadata": {
        "colab": {
          "base_uri": "https://localhost:8080/"
        },
        "id": "X1EhP-YJ72Uj",
        "outputId": "9a11fb54-04bc-40ec-b1c4-536b37fc7d62"
      },
      "execution_count": 2,
      "outputs": [
        {
          "output_type": "stream",
          "name": "stdout",
          "text": [
            "--2025-01-20 13:38:17--  https://raw.githubusercontent.com/rahmanziaur/MLModelPythonZia/refs/heads/main/iris1.csv\n",
            "Resolving raw.githubusercontent.com (raw.githubusercontent.com)... 185.199.108.133, 185.199.109.133, 185.199.110.133, ...\n",
            "Connecting to raw.githubusercontent.com (raw.githubusercontent.com)|185.199.108.133|:443... connected.\n",
            "HTTP request sent, awaiting response... 200 OK\n",
            "Length: 3975 (3.9K) [text/plain]\n",
            "Saving to: ‘iris1.csv’\n",
            "\n",
            "\riris1.csv             0%[                    ]       0  --.-KB/s               \riris1.csv           100%[===================>]   3.88K  --.-KB/s    in 0s      \n",
            "\n",
            "2025-01-20 13:38:17 (46.2 MB/s) - ‘iris1.csv’ saved [3975/3975]\n",
            "\n"
          ]
        }
      ]
    },
    {
      "cell_type": "code",
      "source": [
        "!wget https://raw.githubusercontent.com/rahmanziaur/MLModelPythonZia/refs/heads/main/predict.py"
      ],
      "metadata": {
        "colab": {
          "base_uri": "https://localhost:8080/"
        },
        "id": "tFj-lgOK8C_2",
        "outputId": "cd5e8e60-4d6b-421a-aeeb-68e11e2ddbb2"
      },
      "execution_count": 4,
      "outputs": [
        {
          "output_type": "stream",
          "name": "stdout",
          "text": [
            "--2025-01-20 13:39:26--  https://raw.githubusercontent.com/rahmanziaur/MLModelPythonZia/refs/heads/main/predict.py\n",
            "Resolving raw.githubusercontent.com (raw.githubusercontent.com)... 185.199.109.133, 185.199.111.133, 185.199.110.133, ...\n",
            "Connecting to raw.githubusercontent.com (raw.githubusercontent.com)|185.199.109.133|:443... connected.\n",
            "HTTP request sent, awaiting response... 200 OK\n",
            "Length: 959 [text/plain]\n",
            "Saving to: ‘predict.py’\n",
            "\n",
            "\rpredict.py            0%[                    ]       0  --.-KB/s               \rpredict.py          100%[===================>]     959  --.-KB/s    in 0s      \n",
            "\n",
            "2025-01-20 13:39:26 (46.5 MB/s) - ‘predict.py’ saved [959/959]\n",
            "\n"
          ]
        }
      ]
    },
    {
      "cell_type": "code",
      "source": [
        "!python build.py"
      ],
      "metadata": {
        "colab": {
          "base_uri": "https://localhost:8080/"
        },
        "id": "IsI6ZL7a78uM",
        "outputId": "707b4245-063e-459d-d9f9-3723a4ecf09b"
      },
      "execution_count": 3,
      "outputs": [
        {
          "output_type": "stream",
          "name": "stdout",
          "text": [
            "Accuracy: 1.0000\n",
            "Classification Report:\n",
            "              precision    recall  f1-score   support\n",
            "\n",
            "      Setosa       1.00      1.00      1.00        10\n",
            "  Versicolor       1.00      1.00      1.00         9\n",
            "   Virginica       1.00      1.00      1.00        11\n",
            "\n",
            "    accuracy                           1.00        30\n",
            "   macro avg       1.00      1.00      1.00        30\n",
            "weighted avg       1.00      1.00      1.00        30\n",
            "\n"
          ]
        }
      ]
    },
    {
      "cell_type": "code",
      "source": [
        "!python predict.py"
      ],
      "metadata": {
        "colab": {
          "base_uri": "https://localhost:8080/"
        },
        "id": "-BeirbD68F4o",
        "outputId": "f21ced4d-7b2d-4f8d-ac50-540ca563e704"
      },
      "execution_count": 5,
      "outputs": [
        {
          "output_type": "stream",
          "name": "stdout",
          "text": [
            "Enter the following inputs for prediction:\n",
            "Sepal Length: 3.5\n",
            "Sepal Width: 2.3\n",
            "Petal Length: 3.2\n",
            "Petal Width: 3.5\n",
            "/usr/local/lib/python3.11/dist-packages/sklearn/utils/validation.py:2739: UserWarning: X does not have valid feature names, but StandardScaler was fitted with feature names\n",
            "  warnings.warn(\n",
            "Prediction: ['Virginica']\n"
          ]
        }
      ]
    }
  ]
}