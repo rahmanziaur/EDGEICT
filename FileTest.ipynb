{
  "nbformat": 4,
  "nbformat_minor": 0,
  "metadata": {
    "colab": {
      "provenance": [],
      "authorship_tag": "ABX9TyMLElK0sA/agOl9vNpQ6SX1",
      "include_colab_link": true
    },
    "kernelspec": {
      "name": "python3",
      "display_name": "Python 3"
    },
    "language_info": {
      "name": "python"
    }
  },
  "cells": [
    {
      "cell_type": "markdown",
      "metadata": {
        "id": "view-in-github",
        "colab_type": "text"
      },
      "source": [
        "<a href=\"https://colab.research.google.com/github/rahmanziaur/EDGEICT/blob/main/FileTest.ipynb\" target=\"_parent\"><img src=\"https://colab.research.google.com/assets/colab-badge.svg\" alt=\"Open In Colab\"/></a>"
      ]
    },
    {
      "cell_type": "code",
      "execution_count": 6,
      "metadata": {
        "colab": {
          "base_uri": "https://localhost:8080/"
        },
        "id": "WE3xESwpJVLN",
        "outputId": "7ca69679-2bb2-490d-e653-aecc4de7716d"
      },
      "outputs": [
        {
          "output_type": "stream",
          "name": "stdout",
          "text": [
            "This_\n"
          ]
        }
      ],
      "source": [
        "file = open('/content/hello.txt','r')\n",
        "\n",
        "content = file.read(5)\n",
        "print(content)\n",
        "file.close()\n"
      ]
    },
    {
      "cell_type": "code",
      "source": [
        "import sys\n",
        "mess = 'this'\n",
        "print(sys.getsizeof(mess))\n"
      ],
      "metadata": {
        "colab": {
          "base_uri": "https://localhost:8080/"
        },
        "id": "2G7zHSKlKNJ5",
        "outputId": "a16b29d5-761e-4342-d773-e7ecbfd87c81"
      },
      "execution_count": 5,
      "outputs": [
        {
          "output_type": "stream",
          "name": "stdout",
          "text": [
            "53\n"
          ]
        }
      ]
    },
    {
      "cell_type": "code",
      "source": [
        "file = open('/content/hello.txt','r')\n",
        "while True:\n",
        "\tcontent=file.readline()\n",
        "\tif not content:\n",
        "\t\tbreak\n",
        "\tprint(content)\n",
        "file.close()"
      ],
      "metadata": {
        "colab": {
          "base_uri": "https://localhost:8080/"
        },
        "id": "BYuB9-AbKzNy",
        "outputId": "3fce5796-4ee7-4a24-af0b-9c2e4d603a1b"
      },
      "execution_count": 8,
      "outputs": [
        {
          "output_type": "stream",
          "name": "stdout",
          "text": [
            "This_is EDGE 49 Batch !!\n",
            "\n",
            "Hello!!\n",
            "\n",
            "This is the last line;\n"
          ]
        }
      ]
    },
    {
      "cell_type": "code",
      "source": [
        "# prompt: search 'the' exists in the file or not, python code\n",
        "\n",
        "import sys\n",
        "\n",
        "def search_word_in_file(filepath, word):\n",
        "    \"\"\"\n",
        "    Searches for a specific word in a file and returns True if found, False otherwise.\n",
        "    \"\"\"\n",
        "    try:\n",
        "        with open(filepath, 'r') as file:\n",
        "            for line in file:\n",
        "                if word in line:\n",
        "                    return True  # Word found\n",
        "            return False  # Word not found\n",
        "    except FileNotFoundError:\n",
        "        print(f\"Error: File '{filepath}' not found.\")\n",
        "        return False\n",
        "\n",
        "# Example usage:\n",
        "filepath = '/content/hello.txt'\n",
        "word_to_search = 'the'\n",
        "if search_word_in_file(filepath, word_to_search):\n",
        "    print(f\"'{word_to_search}' found in '{filepath}'\")\n",
        "else:\n",
        "    print(f\"'{word_to_search}' not found in '{filepath}'\")"
      ],
      "metadata": {
        "colab": {
          "base_uri": "https://localhost:8080/"
        },
        "id": "titw2VwsLC7X",
        "outputId": "fca93fa5-14d2-4a1f-b389-c2180cd8b475"
      },
      "execution_count": 9,
      "outputs": [
        {
          "output_type": "stream",
          "name": "stdout",
          "text": [
            "'the' found in '/content/hello.txt'\n"
          ]
        }
      ]
    },
    {
      "cell_type": "code",
      "source": [
        "i = input ('Enter search word: ')\n",
        "\n",
        "f = open('/content/hello.txt','r')\n",
        "\n",
        "state = False\n",
        "while True:\n",
        "  x = f.readline()\n",
        "  if i in x:\n",
        "    state = True\n",
        "    break\n",
        "  if not x:\n",
        "    break\n",
        "\n",
        "if state:\n",
        "  print('found')\n",
        "else:\n",
        "  print('not found')\n",
        "\n",
        "f.close()\n",
        "\n",
        "\n"
      ],
      "metadata": {
        "colab": {
          "base_uri": "https://localhost:8080/"
        },
        "id": "W4SQiLsdL-YB",
        "outputId": "2815f44a-a9de-40e6-a511-d26196f9b9f6"
      },
      "execution_count": 17,
      "outputs": [
        {
          "output_type": "stream",
          "name": "stdout",
          "text": [
            "Enter search word: Hello!!\n",
            "found\n"
          ]
        }
      ]
    },
    {
      "cell_type": "code",
      "source": [
        "print(\"Test\")"
      ],
      "metadata": {
        "id": "7AYvxM1URP5r"
      },
      "execution_count": null,
      "outputs": []
    }
  ]
}