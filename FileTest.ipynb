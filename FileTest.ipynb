{
  "nbformat": 4,
  "nbformat_minor": 0,
  "metadata": {
    "colab": {
      "provenance": [],
      "authorship_tag": "ABX9TyNGj0bR3zuh0oNbIKLM51RG",
      "include_colab_link": true
    },
    "kernelspec": {
      "name": "python3",
      "display_name": "Python 3"
    },
    "language_info": {
      "name": "python"
    }
  },
  "cells": [
    {
      "cell_type": "markdown",
      "metadata": {
        "id": "view-in-github",
        "colab_type": "text"
      },
      "source": [
        "<a href=\"https://colab.research.google.com/github/rahmanziaur/EDGEICT/blob/main/filetest.ipynb\" target=\"_parent\"><img src=\"https://colab.research.google.com/assets/colab-badge.svg\" alt=\"Open In Colab\"/></a>"
      ]
    },
    {
      "cell_type": "code",
      "execution_count": null,
      "metadata": {
        "colab": {
          "base_uri": "https://localhost:8080/"
        },
        "id": "WE3xESwpJVLN",
        "outputId": "b6be23a1-cef6-4e7c-baa2-9231a8123eed"
      },
      "outputs": [
        {
          "output_type": "stream",
          "name": "stdout",
          "text": [
            "This is from batch 50\n",
            "EDGE ICT\n",
            "Thanks\n",
            "Hello and Welcome...\n",
            "End;\n"
          ]
        }
      ],
      "source": [
        "file = open('/content/hello.txt','r')\n",
        "\n",
        "content = file.read()\n",
        "print(content)\n",
        "file.close()\n"
      ]
    },
    {
      "cell_type": "code",
      "source": [
        "import sys\n",
        "mess = 'this'\n",
        "print(sys.getsizeof(mess))\n"
      ],
      "metadata": {
        "colab": {
          "base_uri": "https://localhost:8080/"
        },
        "id": "2G7zHSKlKNJ5",
        "outputId": "a16b29d5-761e-4342-d773-e7ecbfd87c81"
      },
      "execution_count": null,
      "outputs": [
        {
          "output_type": "stream",
          "name": "stdout",
          "text": [
            "53\n"
          ]
        }
      ]
    },
    {
      "cell_type": "code",
      "source": [
        "file = open('/content/hello.txt','r')\n",
        "while True:\n",
        "\tcontent=file.readline()\n",
        "\tif not content:\n",
        "\t\tbreak\n",
        "\tprint(content)\n",
        "file.close()"
      ],
      "metadata": {
        "colab": {
          "base_uri": "https://localhost:8080/"
        },
        "id": "BYuB9-AbKzNy",
        "outputId": "3fce5796-4ee7-4a24-af0b-9c2e4d603a1b"
      },
      "execution_count": null,
      "outputs": [
        {
          "output_type": "stream",
          "name": "stdout",
          "text": [
            "This_is EDGE 49 Batch !!\n",
            "\n",
            "Hello!!\n",
            "\n",
            "This is the last line;\n"
          ]
        }
      ]
    },
    {
      "cell_type": "code",
      "source": [
        "# prompt: search 'the' exists in the file or not, python code\n",
        "\n",
        "import sys\n",
        "\n",
        "def search_word_in_file(filepath, word):\n",
        "    \"\"\"\n",
        "    Searches for a specific word in a file and returns True if found, False otherwise.\n",
        "    \"\"\"\n",
        "    try:\n",
        "        with open(filepath, 'r') as file:\n",
        "            for line in file:\n",
        "                if word in line:\n",
        "                    return True  # Word found\n",
        "            return False  # Word not found\n",
        "    except FileNotFoundError:\n",
        "        print(f\"Error: File '{filepath}' not found.\")\n",
        "        return False\n",
        "\n",
        "# Example usage:\n",
        "filepath = '/content/hello.txt'\n",
        "word_to_search = 'the'\n",
        "if search_word_in_file(filepath, word_to_search):\n",
        "    print(f\"'{word_to_search}' found in '{filepath}'\")\n",
        "else:\n",
        "    print(f\"'{word_to_search}' not found in '{filepath}'\")"
      ],
      "metadata": {
        "colab": {
          "base_uri": "https://localhost:8080/"
        },
        "id": "titw2VwsLC7X",
        "outputId": "fca93fa5-14d2-4a1f-b389-c2180cd8b475"
      },
      "execution_count": null,
      "outputs": [
        {
          "output_type": "stream",
          "name": "stdout",
          "text": [
            "'the' found in '/content/hello.txt'\n"
          ]
        }
      ]
    },
    {
      "cell_type": "code",
      "source": [
        "i = input ('Enter search word: ')\n",
        "\n",
        "f = open('/content/hello.txt','r')\n",
        "\n",
        "state = False\n",
        "while True:\n",
        "  x = f.readline()\n",
        "  if i in x:\n",
        "    state = True\n",
        "    break\n",
        "  if not x:\n",
        "    break\n",
        "\n",
        "if state:\n",
        "  print('found')\n",
        "else:\n",
        "  print('not found')\n",
        "\n",
        "f.close()\n",
        "\n",
        "\n"
      ],
      "metadata": {
        "colab": {
          "base_uri": "https://localhost:8080/"
        },
        "id": "W4SQiLsdL-YB",
        "outputId": "67c19ede-cfc4-40f6-843b-0ceffa82b249"
      },
      "execution_count": null,
      "outputs": [
        {
          "output_type": "stream",
          "name": "stdout",
          "text": [
            "Enter search word: Batch\n",
            "not found\n"
          ]
        }
      ]
    },
    {
      "cell_type": "code",
      "source": [
        "f = open(\"/content/hello1.txt\", \"a\")\n",
        "f.write(\"Now the file has more content!\")\n",
        "f.close()\n",
        "\n",
        "#open and read the file after the appending:\n",
        "f = open(\"/content/hello1.txt\", \"r\")\n",
        "print(f.read())"
      ],
      "metadata": {
        "id": "7AYvxM1URP5r",
        "colab": {
          "base_uri": "https://localhost:8080/"
        },
        "outputId": "2e919d40-fb57-4167-d7f2-0d7a457f1cbe"
      },
      "execution_count": null,
      "outputs": [
        {
          "output_type": "stream",
          "name": "stdout",
          "text": [
            "Now the file has more content!\n"
          ]
        }
      ]
    },
    {
      "cell_type": "code",
      "source": [
        "# code to delete a particular\n",
        "# data from a file\n",
        "\n",
        "# open file in read mode\n",
        "with open(\"/content/sample.txt\", \"r\") as f:\n",
        "\n",
        "    # read data line by line\n",
        "    data = f.readlines()\n",
        "\n",
        "# open file in write mode\n",
        "with open(\"/content/sample.txt\", \"w\") as f:\n",
        "\n",
        "    for line in data :\n",
        "\n",
        "        # condition for data to be deleted\n",
        "        if line.strip(\"\\n\") == \"Age : 20\" :\n",
        "            f.write(\"\\\"New Text!!\\\"\")\n",
        "print(data)\n",
        "f.close()"
      ],
      "metadata": {
        "colab": {
          "base_uri": "https://localhost:8080/"
        },
        "id": "elrjCXLdoJD8",
        "outputId": "79100b70-0fda-47c0-fd6c-c6d5624b2e83"
      },
      "execution_count": null,
      "outputs": [
        {
          "output_type": "stream",
          "name": "stdout",
          "text": [
            "[]\n"
          ]
        }
      ]
    },
    {
      "cell_type": "code",
      "source": [
        "# list to store file lines\n",
        "lines = []\n",
        "# read file\n",
        "with open(r\"/content/sample.txt\", 'r') as fp:\n",
        "    # read an store all lines into list\n",
        "    lines = fp.readlines()\n",
        "\n",
        "\n",
        "with open(r\"/content/sample.txt\", 'w') as fp:\n",
        "    for number, line in enumerate(lines):\n",
        "        if number not in [4, 7]:\n",
        "            fp.write(line)\n"
      ],
      "metadata": {
        "id": "2nO0OjtqspA8"
      },
      "execution_count": null,
      "outputs": []
    }
  ]
}