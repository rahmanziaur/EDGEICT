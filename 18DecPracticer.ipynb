{
  "nbformat": 4,
  "nbformat_minor": 0,
  "metadata": {
    "colab": {
      "provenance": [],
      "mount_file_id": "1Mn-Dwvf4yebUvciP0kAl6nTGUWVpvqXh",
      "authorship_tag": "ABX9TyOwgxfbUmdfEPm+AcYTbQ/e",
      "include_colab_link": true
    },
    "kernelspec": {
      "name": "python3",
      "display_name": "Python 3"
    },
    "language_info": {
      "name": "python"
    }
  },
  "cells": [
    {
      "cell_type": "markdown",
      "metadata": {
        "id": "view-in-github",
        "colab_type": "text"
      },
      "source": [
        "<a href=\"https://colab.research.google.com/github/rahmanziaur/EDGEICT/blob/main/18DecPracticer.ipynb\" target=\"_parent\"><img src=\"https://colab.research.google.com/assets/colab-badge.svg\" alt=\"Open In Colab\"/></a>"
      ]
    },
    {
      "cell_type": "code",
      "execution_count": null,
      "metadata": {
        "colab": {
          "base_uri": "https://localhost:8080/"
        },
        "id": "fhZNiEiah3QY",
        "outputId": "e43fc5c6-b93d-4743-b8f4-b6cedca0fd7a"
      },
      "outputs": [
        {
          "output_type": "stream",
          "name": "stdout",
          "text": [
            "Hello!\n"
          ]
        }
      ],
      "source": [
        "print(\"Hello!\")"
      ]
    },
    {
      "cell_type": "code",
      "source": [
        "x = 5 # x is int\n",
        "y = \"John\" # y is string\n",
        "print(x)\n",
        "print(y)"
      ],
      "metadata": {
        "colab": {
          "base_uri": "https://localhost:8080/"
        },
        "id": "GNhf9CaBiR-z",
        "outputId": "6a47a72a-8eaa-472c-a099-ca95344cd8a8"
      },
      "execution_count": null,
      "outputs": [
        {
          "output_type": "stream",
          "name": "stdout",
          "text": [
            "5\n",
            "John\n"
          ]
        }
      ]
    },
    {
      "cell_type": "code",
      "source": [
        "print(123)"
      ],
      "metadata": {
        "colab": {
          "base_uri": "https://localhost:8080/"
        },
        "id": "zQzQRfqeqJtb",
        "outputId": "7f00248e-493b-497d-f102-1ff947ddd01a"
      },
      "execution_count": null,
      "outputs": [
        {
          "output_type": "stream",
          "name": "stdout",
          "text": [
            "123\n"
          ]
        }
      ]
    },
    {
      "cell_type": "code",
      "source": [
        "x = str(3)    # x will be '3'\n",
        "y = int(3)    # y will be 3\n",
        "z = float(3)  # z will be 3.0\n",
        "print(type(x),type(y),type(z))"
      ],
      "metadata": {
        "colab": {
          "base_uri": "https://localhost:8080/"
        },
        "id": "gPFgZUphiyzU",
        "outputId": "d0d96377-4a02-43ea-b809-48ca84356555"
      },
      "execution_count": null,
      "outputs": [
        {
          "output_type": "stream",
          "name": "stdout",
          "text": [
            "<class 'str'> <class 'int'> <class 'float'>\n"
          ]
        }
      ]
    },
    {
      "cell_type": "code",
      "source": [
        "firstName = input(\"What is your first name? \")\n",
        "lastName = input(\"What is your last name? \")\n",
        "fullName = firstName + \" \" + lastName\n",
        "print(fullName)"
      ],
      "metadata": {
        "colab": {
          "base_uri": "https://localhost:8080/"
        },
        "id": "tySQgP0njDDt",
        "outputId": "11f56632-22b0-4d12-a6e8-1f5bfe80f5d6"
      },
      "execution_count": null,
      "outputs": [
        {
          "output_type": "stream",
          "name": "stdout",
          "text": [
            "What is your first name? Ziaur\n",
            "What is your last name? Rahman\n",
            "Ziaur Rahman\n"
          ]
        }
      ]
    },
    {
      "cell_type": "code",
      "source": [
        "import sys\n",
        "x, y, z = 1,str(2),b'3'\n",
        "print(x, type(x), sys.getsizeof(x))\n",
        "print(y, type(y), sys.getsizeof(y))\n",
        "print(z, type(z), sys.getsizeof(z))"
      ],
      "metadata": {
        "colab": {
          "base_uri": "https://localhost:8080/"
        },
        "id": "M4JBGbJ_lPN8",
        "outputId": "cd526776-0c47-4f4c-d45f-f2d78b3b443f"
      },
      "execution_count": null,
      "outputs": [
        {
          "output_type": "stream",
          "name": "stdout",
          "text": [
            "1 <class 'int'> 28\n",
            "2 <class 'str'> 50\n",
            "b'3' <class 'bytes'> 34\n"
          ]
        }
      ]
    },
    {
      "cell_type": "code",
      "source": [
        "x, y, z = \"Hello World\", 1, 1.0\n",
        "print(x)\n",
        "print(y)\n",
        "print(z)"
      ],
      "metadata": {
        "colab": {
          "base_uri": "https://localhost:8080/"
        },
        "id": "JG2LbE0eyErJ",
        "outputId": "70a7e82e-3504-487e-c64c-e311a1300ecd"
      },
      "execution_count": null,
      "outputs": [
        {
          "output_type": "stream",
          "name": "stdout",
          "text": [
            "Hello World\n",
            "1\n",
            "1.0\n"
          ]
        }
      ]
    },
    {
      "cell_type": "code",
      "source": [
        "x = \"Python\"\n",
        "y = \"is\"\n",
        "z = \"awesome\"\n",
        "print(x+\" \"+y+\" \"+z)"
      ],
      "metadata": {
        "colab": {
          "base_uri": "https://localhost:8080/"
        },
        "id": "cl1iSbafygrK",
        "outputId": "b4e7452f-6133-498d-e28a-66442afd9404"
      },
      "execution_count": null,
      "outputs": [
        {
          "output_type": "stream",
          "name": "stdout",
          "text": [
            "Python is awesome\n"
          ]
        }
      ]
    },
    {
      "cell_type": "code",
      "source": [
        "x = \"q\"\n",
        "y = \"r\"\n",
        "print(x + y)"
      ],
      "metadata": {
        "colab": {
          "base_uri": "https://localhost:8080/"
        },
        "id": "86qkHSOOyzlZ",
        "outputId": "43b6f03e-6b24-4d73-8e22-bc31ef6e421d"
      },
      "execution_count": null,
      "outputs": [
        {
          "output_type": "stream",
          "name": "stdout",
          "text": [
            "qr\n"
          ]
        }
      ]
    },
    {
      "cell_type": "code",
      "source": [
        "x = 5 #integer type\n",
        "y = \"John\" # string type\n",
        "print(f'{x}{y}')"
      ],
      "metadata": {
        "colab": {
          "base_uri": "https://localhost:8080/"
        },
        "id": "t-jNIjbKzJSB",
        "outputId": "cd8e8bda-32fe-4e48-bb91-09903e29d7fe"
      },
      "execution_count": null,
      "outputs": [
        {
          "output_type": "stream",
          "name": "stdout",
          "text": [
            "5John\n"
          ]
        }
      ]
    },
    {
      "cell_type": "code",
      "source": [
        "name = \"John\"\n",
        "age = 36\n",
        "txt = \"His name is {} and he is {} years old\"\n",
        "print(txt.format(name, age)) #altenative way\n",
        "print(f'His name is {name} and he is {age} years old')"
      ],
      "metadata": {
        "colab": {
          "base_uri": "https://localhost:8080/"
        },
        "id": "gvVYnP9F0o7B",
        "outputId": "b08de3fc-0c13-440c-e899-40fc79ba615f"
      },
      "execution_count": null,
      "outputs": [
        {
          "output_type": "stream",
          "name": "stdout",
          "text": [
            "His name is John and he is 36 years old\n"
          ]
        }
      ]
    },
    {
      "cell_type": "code",
      "source": [
        "x = \"awesome\"\n",
        "\n",
        "def myfunc():\n",
        "  print(\"Python is \" + x)\n",
        "\n",
        "myfunc()"
      ],
      "metadata": {
        "colab": {
          "base_uri": "https://localhost:8080/"
        },
        "id": "xkusIPw-8RM_",
        "outputId": "73fc59ac-3900-416c-8f72-e07e8db1070b"
      },
      "execution_count": null,
      "outputs": [
        {
          "output_type": "stream",
          "name": "stdout",
          "text": [
            "Python is awesome\n"
          ]
        }
      ]
    },
    {
      "cell_type": "code",
      "source": [
        "x = \"awesome\"\n",
        "\n",
        "def myfunc():\n",
        "  x = \"fantastic\"\n",
        "  print(\"Python is \" + x+\" (Local scope)\")\n",
        "\n",
        "myfunc()\n",
        "\n",
        "print(\"Python is \" + x+\" (Golbal scope)\")"
      ],
      "metadata": {
        "colab": {
          "base_uri": "https://localhost:8080/"
        },
        "id": "YRAxU_5m8wEH",
        "outputId": "95e2deaa-97d3-49f3-8fac-b5872f49eda6"
      },
      "execution_count": null,
      "outputs": [
        {
          "output_type": "stream",
          "name": "stdout",
          "text": [
            "Python is fantastic (Local scope)\n",
            "Python is awesome (Golbal scope)\n"
          ]
        }
      ]
    },
    {
      "cell_type": "code",
      "source": [
        "\n",
        "x = \"Awesome\" # initialisation\n",
        "\n",
        "def myfunc():\n",
        "  global x\n",
        "  x = \"fantastic\" # replaceing \"Awesome\" by \"fantastic\"\n",
        "  print(\"Python is \" + x)\n",
        "\n",
        "\n",
        "myfunc()\n",
        "\n",
        "print(\"Python is \" + x)"
      ],
      "metadata": {
        "colab": {
          "base_uri": "https://localhost:8080/"
        },
        "id": "V20SZz309LHY",
        "outputId": "a1f88b3f-468d-4e1a-8b6c-d8c1a70ef3d2"
      },
      "execution_count": null,
      "outputs": [
        {
          "output_type": "stream",
          "name": "stdout",
          "text": [
            "Python is fantastic\n",
            "Python is fantastic\n"
          ]
        }
      ]
    },
    {
      "cell_type": "code",
      "source": [
        "def addComplex( z1, z2):\n",
        "    return z1 + z2\n",
        "\n",
        "li1 = [complex(_,2+_) for _ in range(6)]\n",
        "li2 = [complex(_,2+_) for _ in range(2,14,2)]\n",
        "\n",
        "li3 = []\n",
        "for i,j in zip(li1,li2):\n",
        "    li3.append(addComplex(i,j))\n",
        "\n",
        "print(f\"li1 = {li1}\\nli2 = {li2}\\nli3= {li3}\")\n"
      ],
      "metadata": {
        "colab": {
          "base_uri": "https://localhost:8080/"
        },
        "id": "HVD2EZ0d-LZI",
        "outputId": "d1c09d5d-b790-4708-f9f7-24cb4329ba6e"
      },
      "execution_count": null,
      "outputs": [
        {
          "output_type": "stream",
          "name": "stdout",
          "text": [
            "li1 = [2j, (1+3j), (2+4j), (3+5j), (4+6j), (5+7j)]\n",
            "li2 = [(2+4j), (4+6j), (6+8j), (8+10j), (10+12j), (12+14j)]\n",
            "li3= [(2+6j), (5+9j), (8+12j), (11+15j), (14+18j), (17+21j)]\n"
          ]
        }
      ]
    },
    {
      "cell_type": "code",
      "source": [
        "a = range(6)\n",
        "print(type(a))\n",
        "#"
      ],
      "metadata": {
        "colab": {
          "base_uri": "https://localhost:8080/"
        },
        "id": "rDohbSRb_CSA",
        "outputId": "7bfc972e-c1e4-4abb-d90e-d1a83315b0b9"
      },
      "execution_count": null,
      "outputs": [
        {
          "output_type": "stream",
          "name": "stdout",
          "text": [
            "<class 'range'>\n"
          ]
        }
      ]
    },
    {
      "cell_type": "code",
      "source": [
        "li = [1, \"MBSTU\", b\"ICT\", True, 2.5, 4j]\n",
        "for i in li:\n",
        "    print(i, type(i))"
      ],
      "metadata": {
        "colab": {
          "base_uri": "https://localhost:8080/"
        },
        "id": "JTVi3QSs_5LQ",
        "outputId": "8ff23e69-eac4-45e5-9fe0-37d284c1683b"
      },
      "execution_count": null,
      "outputs": [
        {
          "output_type": "stream",
          "name": "stdout",
          "text": [
            "[1, 'MBSTU', b'ICT', True, 2.5, 4j]\n"
          ]
        }
      ]
    },
    {
      "cell_type": "code",
      "source": [
        "# prompt: write a code to calculate PI value upto given number\n",
        "\n",
        "import math\n",
        "\n",
        "def calculate_pi(precision):\n",
        "  \"\"\"Calculates the value of PI up to a given precision using the Leibniz formula.\n",
        "\n",
        "  Args:\n",
        "    precision: The number of terms to use in the Leibniz formula.\n",
        "\n",
        "  Returns:\n",
        "    The calculated value of PI.\n",
        "  \"\"\"\n",
        "  pi = 0\n",
        "  for i in range(precision):\n",
        "    pi += (-1)**i / (2*i + 1)\n",
        "  return 4 * pi\n",
        "\n",
        "# Get the desired precision from the user.\n",
        "precision = int(input(\"Enter the desired precision (number of terms): \"))\n",
        "\n",
        "\n",
        "# Calculate and print the value of PI.\n",
        "pi_value = calculate_pi(precision)\n",
        "print(f\"The value of PI (approximated with {precision} terms) is: {pi_value}\")\n",
        "\n",
        "#Compare with the math module's pi\n",
        "print(f\"Math module pi: {math.pi}\")\n"
      ],
      "metadata": {
        "colab": {
          "base_uri": "https://localhost:8080/"
        },
        "id": "0YX-rBSHAKl-",
        "outputId": "e55ea8aa-cbf3-4aeb-d7ba-c6b5a48da455"
      },
      "execution_count": null,
      "outputs": [
        {
          "output_type": "stream",
          "name": "stdout",
          "text": [
            "Enter the desired precision (number of terms): 144\n",
            "The value of PI (approximated with 144 terms) is: 3.134648292864797\n",
            "Math module pi: 3.141592653589793\n"
          ]
        }
      ]
    },
    {
      "cell_type": "code",
      "source": [],
      "metadata": {
        "id": "ihm0zTRGAkEl"
      },
      "execution_count": null,
      "outputs": []
    },
    {
      "cell_type": "code",
      "source": [],
      "metadata": {
        "colab": {
          "base_uri": "https://localhost:8080/",
          "height": 111
        },
        "id": "CbeMwkc8AbXI",
        "outputId": "9c5e7a3e-306d-4ddb-dd64-af973f8f1e0b"
      },
      "execution_count": null,
      "outputs": [
        {
          "output_type": "error",
          "ename": "SyntaxError",
          "evalue": "invalid syntax (<ipython-input-39-050973386d4e>, line 1)",
          "traceback": [
            "\u001b[0;36m  File \u001b[0;32m\"<ipython-input-39-050973386d4e>\"\u001b[0;36m, line \u001b[0;32m1\u001b[0m\n\u001b[0;31m    calculate pi value after decimal point upto the digits given number\u001b[0m\n\u001b[0m              ^\u001b[0m\n\u001b[0;31mSyntaxError\u001b[0m\u001b[0;31m:\u001b[0m invalid syntax\n"
          ]
        }
      ]
    },
    {
      "cell_type": "code",
      "source": [
        "# prompt: calculate pi value after decimal point upto the digits given number\n",
        "\n",
        "import math\n",
        "\n",
        "def calculate_pi(precision):\n",
        "  \"\"\"Calculates the value of PI up to a given precision using the Leibniz formula.\n",
        "\n",
        "  Args:\n",
        "    precision: The number of terms to use in the Leibniz formula.\n",
        "\n",
        "  Returns:\n",
        "    The calculated value of PI.\n",
        "  \"\"\"\n",
        "  pi = 0\n",
        "  for i in range(precision):\n",
        "    pi += (-1)**i / (2*i + 1)\n",
        "  return 4 * pi\n",
        "\n",
        "# Get the desired precision from the user.\n",
        "precision = int(input(\"Enter the desired precision (number of terms): \"))\n",
        "\n",
        "\n",
        "# Calculate and print the value of PI.\n",
        "pi_value = calculate_pi(precision)\n",
        "print(f\"The value of PI (approximated with {precision} terms) is: {pi_value}\")\n",
        "\n",
        "#Compare with the math module's pi\n",
        "print(f\"Math module pi: {math.pi}\")"
      ],
      "metadata": {
        "colab": {
          "base_uri": "https://localhost:8080/"
        },
        "id": "tPizI7UVAjXl",
        "outputId": "c165ba70-7152-4ea8-8fa0-a9a88f68721d"
      },
      "execution_count": null,
      "outputs": [
        {
          "output_type": "stream",
          "name": "stdout",
          "text": [
            "Enter the desired precision (number of terms): 144\n",
            "The value of PI (approximated with 144 terms) is: 3.134648292864797\n",
            "Math module pi: 3.141592653589793\n"
          ]
        }
      ]
    },
    {
      "cell_type": "code",
      "source": [
        "from decimal import Decimal, getcontext\n",
        "\n",
        "def calculate_pi(precision):\n",
        "    # Set the precision for Decimal calculations\n",
        "    getcontext().prec = precision + 2  # Extra precision to ensure rounding accuracy\n",
        "    pi = Decimal(0)\n",
        "    k = 0\n",
        "\n",
        "    # Use the Bailey-Borwein-Plouffe (BBP) formula\n",
        "    while k < precision * 10:  # Increase iterations for higher precision\n",
        "        pi += (Decimal(1) / (16 ** k)) * (\n",
        "            Decimal(4) / (8 * k + 1) -\n",
        "            Decimal(2) / (8 * k + 4) -\n",
        "            Decimal(1) / (8 * k + 5) -\n",
        "            Decimal(1) / (8 * k + 6)\n",
        "        )\n",
        "        k += 1\n",
        "\n",
        "    # Round to the desired number of decimal places\n",
        "    return round(pi, precision)\n",
        "\n",
        "# Input: number of decimal places\n",
        "num_decimal_places = int(input(\"Enter the number of decimal places: \"))\n",
        "pi_value = calculate_pi(num_decimal_places)\n",
        "print(f\"Pi to {num_decimal_places} decimal places: {pi_value}\")\n"
      ],
      "metadata": {
        "colab": {
          "base_uri": "https://localhost:8080/"
        },
        "id": "wosTX21WA8U3",
        "outputId": "a70fcdf5-23ab-4c98-cadd-d9f00d78054b"
      },
      "execution_count": null,
      "outputs": [
        {
          "output_type": "stream",
          "name": "stdout",
          "text": [
            "Enter the number of decimal places: 144\n",
            "Pi to 144 decimal places: 3.141592653589793238462643383279502884197169399375105820974944592307816406286208998628034825342117067982148086513282306647093844609550582231725359\n"
          ]
        }
      ]
    },
    {
      "cell_type": "code",
      "source": [
        "from decimal import Decimal, getcontext\n",
        "\n",
        "def calculate_pi(precision):\n",
        "    # Set the precision for Decimal calculations\n",
        "    getcontext().prec = precision + 2  # Extra precision to ensure rounding accuracy\n",
        "    pi = Decimal(0)\n",
        "    k = 0\n",
        "\n",
        "    # Use the Bailey-Borwein-Plouffe (BBP) formula\n",
        "    while k < precision * 10:  # Increase iterations for higher precision\n",
        "        pi += (Decimal(1) / (16 ** k)) * (\n",
        "            Decimal(4) / (8 * k + 1) -\n",
        "            Decimal(2) / (8 * k + 4) -\n",
        "            Decimal(1) / (8 * k + 5) -\n",
        "            Decimal(1) / (8 * k + 6)\n",
        "        )\n",
        "        k += 1\n",
        "\n",
        "    # Round to the desired number of decimal places\n",
        "    return round(pi, precision)\n",
        "\n",
        "def sum_of_digits(decimal_str):\n",
        "    # Sum the digits after the decimal point\n",
        "    return sum(int(digit) for digit in decimal_str if digit.isdigit())\n",
        "\n",
        "# Input: number of decimal places\n",
        "num_decimal_places = int(input(\"Enter the number of decimal places: \"))\n",
        "pi_value = calculate_pi(num_decimal_places)\n",
        "\n",
        "# Convert to string to isolate the decimal part\n",
        "pi_str = str(pi_value).split('.')[1]  # Part after the decimal point\n",
        "\n",
        "# Calculate the sum of digits after the decimal point\n",
        "digits_sum = sum_of_digits(pi_str)\n",
        "\n",
        "print(f\"Pi to {num_decimal_places} decimal places: {pi_value}\")\n",
        "print(f\"Sum of the digits after the decimal point: {digits_sum}\")\n"
      ],
      "metadata": {
        "colab": {
          "base_uri": "https://localhost:8080/"
        },
        "id": "vk4b6EL_BM1P",
        "outputId": "725c390c-667b-4c4a-a665-2e0ec3855051"
      },
      "execution_count": null,
      "outputs": [
        {
          "output_type": "stream",
          "name": "stdout",
          "text": [
            "Enter the number of decimal places: 144\n",
            "Pi to 144 decimal places: 3.141592653589793238462643383279502884197169399375105820974944592307816406286208998628034825342117067982148086513282306647093844609550582231725359\n",
            "Sum of the digits after the decimal point: 666\n"
          ]
        }
      ]
    },
    {
      "cell_type": "markdown",
      "source": [
        "**trying to get even ASCII character and its ASCII value in a single line python code with if for loop and list**"
      ],
      "metadata": {
        "id": "aY_KAjOGE09W"
      }
    },
    {
      "cell_type": "code",
      "source": [
        "[str(c)+\"=\"+chr(c) for c in range(ord('a'), ord('z')+1) if c%2==0]"
      ],
      "metadata": {
        "colab": {
          "base_uri": "https://localhost:8080/"
        },
        "id": "UOXWjBEFB8uH",
        "outputId": "27557c3f-17dc-4d28-dfa4-009ec151e0fb"
      },
      "execution_count": null,
      "outputs": [
        {
          "output_type": "execute_result",
          "data": {
            "text/plain": [
              "['98=b',\n",
              " '100=d',\n",
              " '102=f',\n",
              " '104=h',\n",
              " '106=j',\n",
              " '108=l',\n",
              " '110=n',\n",
              " '112=p',\n",
              " '114=r',\n",
              " '116=t',\n",
              " '118=v',\n",
              " '120=x',\n",
              " '122=z']"
            ]
          },
          "metadata": {},
          "execution_count": 50
        }
      ]
    },
    {
      "cell_type": "markdown",
      "source": [
        "**How byte is more efficient than string**"
      ],
      "metadata": {
        "id": "7PGAoMp-Hp8G"
      }
    },
    {
      "cell_type": "code",
      "source": [
        "import sys\n",
        "RAW = \"café\"\n",
        "word_as_bytes = bytes(\"café\", \"utf-8\")\n",
        "print(\"Raw:\"+RAW+\" type=\"+str(type(RAW))+\" Size: \"+str(sys.getsizeof(RAW)))\n",
        "\n",
        "print(f\"Encoded {word_as_bytes}\"+\" type=\"+str(type(word_as_bytes))+\" Size: \"+str(sys.getsizeof(word_as_bytes)))"
      ],
      "metadata": {
        "colab": {
          "base_uri": "https://localhost:8080/"
        },
        "id": "RLOSXNOUE0fv",
        "outputId": "4033d46d-7fb5-43c6-9ecb-b337c7b43673"
      },
      "execution_count": null,
      "outputs": [
        {
          "output_type": "stream",
          "name": "stdout",
          "text": [
            "Raw:café type=<class 'str'> Size: 77\n",
            "Encoded b'caf\\xc3\\xa9' type=<class 'bytes'> Size: 38\n"
          ]
        }
      ]
    },
    {
      "cell_type": "markdown",
      "source": [
        "**Please do this at home/hall (even if you're homeless.**\n",
        "\n",
        "Q. Which value is missing in the following two list, li and li1?"
      ],
      "metadata": {
        "id": "WiFId5m8JZgO"
      }
    },
    {
      "cell_type": "code",
      "source": [
        "li = [i for i in range(10)]\n",
        "print(li)\n",
        "li1= li[:2]+li[3:]\n",
        "print(li1)"
      ],
      "metadata": {
        "colab": {
          "base_uri": "https://localhost:8080/"
        },
        "id": "JJqZDKSxH7s2",
        "outputId": "42802eaf-7c9e-4a19-a190-305b9b2fe3db"
      },
      "execution_count": null,
      "outputs": [
        {
          "output_type": "stream",
          "name": "stdout",
          "text": [
            "[0, 1, 2, 3, 4, 5, 6, 7, 8, 9]\n",
            "[0, 1, 3, 4, 5, 6, 7, 8, 9]\n"
          ]
        }
      ]
    },
    {
      "cell_type": "code",
      "source": [],
      "metadata": {
        "id": "ErgQsRdsJkQr"
      },
      "execution_count": null,
      "outputs": []
    },
    {
      "cell_type": "code",
      "source": [
        "# prompt: how can find which value is missing form the following lists?\n",
        "# li = [i for i in range(10)]\n",
        "# print(li)\n",
        "# li1= li[:2]+li[3:]\n",
        "# print(li1)\n",
        "\n",
        "li = [i for i in range(10)]\n",
        "print(li)\n",
        "li1= li[:2]+li[3:]\n",
        "print(li1)\n",
        "\n",
        "# Find the missing element\n",
        "missing_element = set(li) - set(li1)\n",
        "print(f\"The missing element is: {missing_element.pop()}\")"
      ],
      "metadata": {
        "id": "Ns8XohIAQVL2"
      },
      "execution_count": null,
      "outputs": []
    },
    {
      "cell_type": "code",
      "source": [
        "li = [i for i in range(10)]\n",
        "print(f\"Original list: {li}\")\n",
        "\n",
        "li1 = li[:2] + li[3:]\n",
        "print(f\"Modified list: {li1}\")\n",
        "\n",
        "# Find the missing element using a for loop\n",
        "missing_element = None\n",
        "for item in li:\n",
        "    if item not in li1:\n",
        "        missing_element = item\n",
        "        break  # Exit the loop as soon as the missing element is found\n",
        "\n",
        "print(f\"The missing element is: {missing_element}\")"
      ],
      "metadata": {
        "id": "koYeCscUQ9aX"
      },
      "execution_count": null,
      "outputs": []
    },
    {
      "cell_type": "code",
      "source": [
        "# Function to compute GCD using Euclidean Algorithm\n",
        "def gcd(a, b):\n",
        "    while b != 0:\n",
        "        a, b = b, a % b\n",
        "    return a\n",
        "\n",
        "# Function to find the multiplicative inverse using Extended Euclidean Algorithm\n",
        "def multiplicative_inverse(n, m):\n",
        "    # Extended Euclidean Algorithm\n",
        "    def extended_gcd(a, b):\n",
        "        if b == 0:\n",
        "            return a, 1, 0\n",
        "        gcd, x1, y1 = extended_gcd(b, a % b)\n",
        "        x = y1\n",
        "        y = x1 - (a // b) * y1\n",
        "        return gcd, x, y\n",
        "\n",
        "    gcd_val, x, y = extended_gcd(n, m)\n",
        "    if gcd_val != 1:\n",
        "        raise ValueError(f\"The multiplicative inverse does not exist because gcd({n}, {m}) != 1\")\n",
        "    else:\n",
        "        # Ensure the result is positive\n",
        "        return x % m\n",
        "\n",
        "# Example usage\n",
        "if __name__ == \"__main__\":\n",
        "    n = int(input(\"Enter n (multiplicative Inverse of n upon mod m):\"))  # Number to find the inverse\n",
        "    m = int(input(\"Enter m (multiplicative Inverse of n upon mod m):\")) # Modulus\n",
        "    try:\n",
        "        inverse = multiplicative_inverse(n, m)\n",
        "        print(f\"The multiplicative inverse of {n} modulo {m} is {inverse}\")\n",
        "    except ValueError as e:\n",
        "        print(e)\n"
      ],
      "metadata": {
        "id": "b9MfMsJH-ueV",
        "outputId": "02caaf91-6f3e-4cae-9d2f-e7acf2cc34b3",
        "colab": {
          "base_uri": "https://localhost:8080/"
        }
      },
      "execution_count": null,
      "outputs": [
        {
          "output_type": "stream",
          "name": "stdout",
          "text": [
            "Enter n (multiplicative Inverse of n upon mod m):12\n",
            "Enter m (multiplicative Inverse of n upon mod m):13\n",
            "The multiplicative inverse of 12 modulo 13 is 12\n"
          ]
        }
      ]
    },
    {
      "cell_type": "code",
      "source": [
        "# Python3 program to find modular\n",
        "# inverse of A under modulo M\n",
        "\n",
        "# A naive method to find modulor\n",
        "# multiplicative inverse of A\n",
        "# under modulo M\n",
        "\n",
        "def gcd(a, b):\n",
        "    if b == 0:\n",
        "        return a\n",
        "    return gcd(b, a % b)\n",
        "\n",
        "def modInverse(A, M):\n",
        "    if gcd(A, M) > 1:\n",
        "\n",
        "        # modulo inverse does not exist\n",
        "        return -1\n",
        "    for X in range(1, M):\n",
        "        if (((A % M) * (X % M)) % M == 1):\n",
        "            return X\n",
        "    return -1\n",
        "\n",
        "\n",
        "if __name__ == \"__main__\":\n",
        "    A = int(input(\"Enter n (multiplicative Inverse of n upon mod m):\"))  # Number to find the inverse\n",
        "    M = int(input(\"Enter m (multiplicative Inverse of n upon mod m):\")) # Modulus\n",
        "\n",
        "    print(modInverse(A, M))"
      ],
      "metadata": {
        "id": "H8ftSMa7Afjx",
        "outputId": "4e09b218-8782-47fc-918f-cabcccd0e474",
        "colab": {
          "base_uri": "https://localhost:8080/"
        }
      },
      "execution_count": null,
      "outputs": [
        {
          "output_type": "stream",
          "name": "stdout",
          "text": [
            "Enter n (multiplicative Inverse of n upon mod m):23\n",
            "Enter m (multiplicative Inverse of n upon mod m):37\n",
            "29\n"
          ]
        }
      ]
    }
  ]
}