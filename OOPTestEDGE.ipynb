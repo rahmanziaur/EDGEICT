{
  "nbformat": 4,
  "nbformat_minor": 0,
  "metadata": {
    "colab": {
      "provenance": [],
      "authorship_tag": "ABX9TyPzpWAfqqLYbTNR186VNIkt",
      "include_colab_link": true
    },
    "kernelspec": {
      "name": "python3",
      "display_name": "Python 3"
    },
    "language_info": {
      "name": "python"
    }
  },
  "cells": [
    {
      "cell_type": "markdown",
      "metadata": {
        "id": "view-in-github",
        "colab_type": "text"
      },
      "source": [
        "<a href=\"https://colab.research.google.com/github/rahmanziaur/EDGEICT/blob/main/OOPTestEDGE.ipynb\" target=\"_parent\"><img src=\"https://colab.research.google.com/assets/colab-badge.svg\" alt=\"Open In Colab\"/></a>"
      ]
    },
    {
      "cell_type": "markdown",
      "source": [
        "**Testing OOP**"
      ],
      "metadata": {
        "id": "zBHstnyd-XRr"
      }
    },
    {
      "cell_type": "code",
      "source": [
        "!wget https://raw.githubusercontent.com/rahmanziaur/EDGEICT/refs/heads/main/TestDog.py"
      ],
      "metadata": {
        "colab": {
          "base_uri": "https://localhost:8080/"
        },
        "id": "dcqjKQXk-ATU",
        "outputId": "003e4115-e358-41b8-a140-635b22678620"
      },
      "execution_count": 21,
      "outputs": [
        {
          "output_type": "stream",
          "name": "stdout",
          "text": [
            "--2025-01-07 13:33:12--  https://raw.githubusercontent.com/rahmanziaur/EDGEICT/refs/heads/main/TestDog.py\n",
            "Resolving raw.githubusercontent.com (raw.githubusercontent.com)... 185.199.108.133, 185.199.109.133, 185.199.110.133, ...\n",
            "Connecting to raw.githubusercontent.com (raw.githubusercontent.com)|185.199.108.133|:443... connected.\n",
            "HTTP request sent, awaiting response... 200 OK\n",
            "Length: 341 [text/plain]\n",
            "Saving to: ‘TestDog.py’\n",
            "\n",
            "\rTestDog.py            0%[                    ]       0  --.-KB/s               \rTestDog.py          100%[===================>]     341  --.-KB/s    in 0s      \n",
            "\n",
            "2025-01-07 13:33:12 (3.32 MB/s) - ‘TestDog.py’ saved [341/341]\n",
            "\n"
          ]
        }
      ]
    },
    {
      "cell_type": "code",
      "source": [
        "!wget https://raw.githubusercontent.com/rahmanziaur/EDGEICT/refs/heads/main/TestDog.py"
      ],
      "metadata": {
        "colab": {
          "base_uri": "https://localhost:8080/"
        },
        "id": "Ufrl4vPy-GBs",
        "outputId": "6fd8be57-2c1d-4cad-e470-dff44529c6ff"
      },
      "execution_count": 22,
      "outputs": [
        {
          "output_type": "stream",
          "name": "stdout",
          "text": [
            "--2025-01-07 13:34:25--  https://raw.githubusercontent.com/rahmanziaur/EDGEICT/refs/heads/main/TestDog.py\n",
            "Resolving raw.githubusercontent.com (raw.githubusercontent.com)... 185.199.109.133, 185.199.110.133, 185.199.108.133, ...\n",
            "Connecting to raw.githubusercontent.com (raw.githubusercontent.com)|185.199.109.133|:443... connected.\n",
            "HTTP request sent, awaiting response... 200 OK\n",
            "Length: 341 [text/plain]\n",
            "Saving to: ‘TestDog.py.1’\n",
            "\n",
            "\rTestDog.py.1          0%[                    ]       0  --.-KB/s               \rTestDog.py.1        100%[===================>]     341  --.-KB/s    in 0s      \n",
            "\n",
            "2025-01-07 13:34:25 (6.75 MB/s) - ‘TestDog.py.1’ saved [341/341]\n",
            "\n"
          ]
        }
      ]
    },
    {
      "cell_type": "code",
      "source": [
        "!python TestDog.py"
      ],
      "metadata": {
        "id": "qoENAmhq06Sv"
      },
      "execution_count": 17,
      "outputs": []
    },
    {
      "cell_type": "code",
      "source": [
        "!python DriverClass.py"
      ],
      "metadata": {
        "colab": {
          "base_uri": "https://localhost:8080/"
        },
        "id": "n3K_HMSY3b7-",
        "outputId": "617f6d9d-405c-463d-cd01-ce34a1108d0b"
      },
      "execution_count": 18,
      "outputs": [
        {
          "output_type": "stream",
          "name": "stdout",
          "text": [
            "Name:Rat Wheller\n",
            " Age:5\n"
          ]
        }
      ]
    },
    {
      "cell_type": "markdown",
      "source": [],
      "metadata": {
        "id": "U-rAj-cO1Bos"
      }
    }
  ]
}