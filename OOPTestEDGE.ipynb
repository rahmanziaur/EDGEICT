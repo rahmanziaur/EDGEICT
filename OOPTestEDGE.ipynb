{
  "nbformat": 4,
  "nbformat_minor": 0,
  "metadata": {
    "colab": {
      "provenance": [],
      "authorship_tag": "ABX9TyNoR1H2SDhGSGUhLxv+HaMJ",
      "include_colab_link": true
    },
    "kernelspec": {
      "name": "python3",
      "display_name": "Python 3"
    },
    "language_info": {
      "name": "python"
    }
  },
  "cells": [
    {
      "cell_type": "markdown",
      "metadata": {
        "id": "view-in-github",
        "colab_type": "text"
      },
      "source": [
        "<a href=\"https://colab.research.google.com/github/rahmanziaur/EDGEICT/blob/main/OOPTestEDGE.ipynb\" target=\"_parent\"><img src=\"https://colab.research.google.com/assets/colab-badge.svg\" alt=\"Open In Colab\"/></a>"
      ]
    },
    {
      "cell_type": "markdown",
      "source": [
        "**Testing OOP**"
      ],
      "metadata": {
        "id": "zBHstnyd-XRr"
      }
    },
    {
      "cell_type": "code",
      "source": [
        "!wget https://raw.githubusercontent.com/rahmanziaur/EDGEICT/refs/heads/main/TestDog.py"
      ],
      "metadata": {
        "colab": {
          "base_uri": "https://localhost:8080/"
        },
        "id": "dcqjKQXk-ATU",
        "outputId": "ff6d7daf-7185-4af7-941d-81c54ed0cc13"
      },
      "execution_count": 26,
      "outputs": [
        {
          "output_type": "stream",
          "name": "stdout",
          "text": [
            "--2025-01-07 13:47:00--  https://raw.githubusercontent.com/rahmanziaur/EDGEICT/refs/heads/main/TestDog.py\n",
            "Resolving raw.githubusercontent.com (raw.githubusercontent.com)... 185.199.108.133, 185.199.109.133, 185.199.110.133, ...\n",
            "Connecting to raw.githubusercontent.com (raw.githubusercontent.com)|185.199.108.133|:443... connected.\n",
            "HTTP request sent, awaiting response... 200 OK\n",
            "Length: 341 [text/plain]\n",
            "Saving to: ‘TestDog.py’\n",
            "\n",
            "\rTestDog.py            0%[                    ]       0  --.-KB/s               \rTestDog.py          100%[===================>]     341  --.-KB/s    in 0s      \n",
            "\n",
            "2025-01-07 13:47:00 (9.15 MB/s) - ‘TestDog.py’ saved [341/341]\n",
            "\n"
          ]
        }
      ]
    },
    {
      "cell_type": "code",
      "source": [
        "!wget https://raw.githubusercontent.com/rahmanziaur/EDGEICT/refs/heads/main/DriverClass.py"
      ],
      "metadata": {
        "colab": {
          "base_uri": "https://localhost:8080/"
        },
        "id": "Ufrl4vPy-GBs",
        "outputId": "274fed6f-c06e-4495-8131-efb734f1d14a"
      },
      "execution_count": 27,
      "outputs": [
        {
          "output_type": "stream",
          "name": "stdout",
          "text": [
            "--2025-01-07 13:48:03--  https://raw.githubusercontent.com/rahmanziaur/EDGEICT/refs/heads/main/DriverClass.py\n",
            "Resolving raw.githubusercontent.com (raw.githubusercontent.com)... 185.199.111.133, 185.199.110.133, 185.199.109.133, ...\n",
            "Connecting to raw.githubusercontent.com (raw.githubusercontent.com)|185.199.111.133|:443... connected.\n",
            "HTTP request sent, awaiting response... 200 OK\n",
            "Length: 227 [text/plain]\n",
            "Saving to: ‘DriverClass.py’\n",
            "\n",
            "\rDriverClass.py        0%[                    ]       0  --.-KB/s               \rDriverClass.py      100%[===================>]     227  --.-KB/s    in 0s      \n",
            "\n",
            "2025-01-07 13:48:04 (3.73 MB/s) - ‘DriverClass.py’ saved [227/227]\n",
            "\n"
          ]
        }
      ]
    },
    {
      "cell_type": "code",
      "source": [
        "!python TestDog.py"
      ],
      "metadata": {
        "id": "qoENAmhq06Sv"
      },
      "execution_count": 30,
      "outputs": []
    },
    {
      "cell_type": "code",
      "source": [
        "!python DriverClass.py"
      ],
      "metadata": {
        "colab": {
          "base_uri": "https://localhost:8080/"
        },
        "id": "n3K_HMSY3b7-",
        "outputId": "28868bf7-6f55-4811-e057-8978e1e5933d"
      },
      "execution_count": 32,
      "outputs": [
        {
          "output_type": "stream",
          "name": "stdout",
          "text": [
            "Name:New Dog\n",
            " Age:5\n"
          ]
        }
      ]
    },
    {
      "cell_type": "markdown",
      "source": [],
      "metadata": {
        "id": "U-rAj-cO1Bos"
      }
    }
  ]
}