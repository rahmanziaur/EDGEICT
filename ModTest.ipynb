{
  "nbformat": 4,
  "nbformat_minor": 0,
  "metadata": {
    "colab": {
      "provenance": [],
      "authorship_tag": "ABX9TyOHICGp8ACwU60qGCiV4DDL",
      "include_colab_link": true
    },
    "kernelspec": {
      "name": "python3",
      "display_name": "Python 3"
    },
    "language_info": {
      "name": "python"
    }
  },
  "cells": [
    {
      "cell_type": "markdown",
      "metadata": {
        "id": "view-in-github",
        "colab_type": "text"
      },
      "source": [
        "<a href=\"https://colab.research.google.com/github/rahmanziaur/EDGEICT/blob/main/ModTest.ipynb\" target=\"_parent\"><img src=\"https://colab.research.google.com/assets/colab-badge.svg\" alt=\"Open In Colab\"/></a>"
      ]
    },
    {
      "cell_type": "markdown",
      "source": [
        "# Develop  a new module that has a function which returns list of alphabets and their corresponding ASCII codes as list. Then reuse that module and print all the alphabets and ASCII codes from Colab commandline."
      ],
      "metadata": {
        "id": "9DVDR0e-mhYW"
      }
    },
    {
      "cell_type": "code",
      "source": [
        "!wget https://github.com/rahmanziaur/EDGEICT/blob/main/EdgeModAlpha1.py\n"
      ],
      "metadata": {
        "colab": {
          "base_uri": "https://localhost:8080/"
        },
        "id": "Th4dyQpBrgBM",
        "outputId": "00300f77-668b-4254-cf91-297ab0331ec4"
      },
      "execution_count": 4,
      "outputs": [
        {
          "output_type": "stream",
          "name": "stdout",
          "text": [
            "--2024-12-20 06:08:18--  https://github.com/rahmanziaur/EDGEICT/blob/main/EdgeModAlpha1.py\n",
            "Resolving github.com (github.com)... 140.82.121.3\n",
            "Connecting to github.com (github.com)|140.82.121.3|:443... connected.\n",
            "HTTP request sent, awaiting response... 200 OK\n",
            "Length: unspecified [text/html]\n",
            "Saving to: ‘EdgeModAlpha1.py’\n",
            "\n",
            "EdgeModAlpha1.py        [ <=>                ] 167.61K  --.-KB/s    in 0.03s   \n",
            "\n",
            "2024-12-20 06:08:19 (5.36 MB/s) - ‘EdgeModAlpha1.py’ saved [171630]\n",
            "\n"
          ]
        }
      ]
    },
    {
      "cell_type": "code",
      "execution_count": 2,
      "metadata": {
        "id": "bT32iPIcmfur"
      },
      "outputs": [],
      "source": [
        "import EdgeModAlpha1 as aa"
      ]
    },
    {
      "cell_type": "code",
      "source": [
        "print(aa.getAlpha(\"a\", \"z\"))"
      ],
      "metadata": {
        "colab": {
          "base_uri": "https://localhost:8080/"
        },
        "id": "uJXSMtwWnPgG",
        "outputId": "327113fe-3b3b-4518-b2f0-2c2d78b99aa1"
      },
      "execution_count": 3,
      "outputs": [
        {
          "output_type": "stream",
          "name": "stdout",
          "text": [
            "['a = 97', 'b = 98', 'c = 99', 'd = 100', 'e = 101', 'f = 102', 'g = 103', 'h = 104', 'i = 105', 'j = 106', 'k = 107', 'l = 108', 'm = 109', 'n = 110', 'o = 111', 'p = 112', 'q = 113', 'r = 114', 's = 115', 't = 116', 'u = 117', 'v = 118', 'w = 119', 'x = 120', 'y = 121', 'z = 122']\n"
          ]
        }
      ]
    }
  ]
}